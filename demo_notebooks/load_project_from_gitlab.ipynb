{
 "cells": [
  {
   "cell_type": "markdown",
   "metadata": {},
   "source": [
    "# Explore your CATMA Profile an load CATMA Projects from the CATMA Gitlab\n",
    "To use this notebook you need [git](https://git-scm.com/downloads) on your machine installed.\n",
    "If you never used git before there may occur problems when using git via the gitma package.\n",
    "If this is the case consider to clone your first CATMA project using the terminal or the git bash.\n",
    "You can find a short introduction on the [CATMA website](https://catma.de/documentation/git-access/)."
   ]
  },
  {
   "cell_type": "markdown",
   "metadata": {},
   "source": [
    "## Table Of Contents\n",
    "* [Import the `Catma` class](#first-bullet)\n",
    "* [Load your CATMA profile](#second-bullet)\n",
    "* [Clone and load a CATMA project](#third-bullet)\n",
    "* [Process a CATMA Project with the `Catma` class](#fourth-bullet)\n",
    "* [Additional Functionalities of the `Catma` class](#fifth-bullet)\n",
    "  * [Get the git command to clone a project in a terminal manually](#5.1-bullet)\n",
    "  * [Load all projects in your CATMA account](#5.2-bullet)"
   ]
  },
  {
   "cell_type": "markdown",
   "metadata": {},
   "source": [
    "## Import the `Catma` class <a class=\"anchor\" id=\"first-bullet\"></a>"
   ]
  },
  {
   "cell_type": "code",
   "execution_count": 1,
   "metadata": {},
   "outputs": [],
   "source": [
    "from gitma import Catma"
   ]
  },
  {
   "cell_type": "markdown",
   "metadata": {},
   "source": [
    "## Load your CATMA profile <a class=\"anchor\" id=\"second-bullet\"></a>\n",
    "The most convenient way to access your CATMA profile via git is a CATMA access token.\n",
    "If you need read-only access to your annotations use the access token generator in the CATMA UI:\n",
    "<img src=\"demo_img/access_token_ui.PNG\">\n",
    "\n",
    "Otherwise, you can generate an access token directly in the CATMA Gitlab with \"**api**\" settings:\n",
    "<img src=\"demo_img/access_token_gitlab.PNG\">"
   ]
  },
  {
   "cell_type": "code",
   "execution_count": 2,
   "metadata": {},
   "outputs": [],
   "source": [
    "your_access_token = ''\n",
    "my_catma = Catma(gitlab_access_token=your_access_token)"
   ]
  },
  {
   "cell_type": "code",
   "execution_count": 3,
   "metadata": {},
   "outputs": [
    {
     "data": {
      "text/plain": [
       "['True_Crime_EvENT',\n",
       " 'Literarische_Konflikte_WS21_22',\n",
       " 'speech_request_plays',\n",
       " 'Konfliktpotential',\n",
       " 'leeres_projekt',\n",
       " 'Annotation_von_Erz_hltexten',\n",
       " 'MONA_2',\n",
       " 'Szenenprojekt',\n",
       " 'test_corpus',\n",
       " 'EvENT',\n",
       " 'Kleists_Novellen',\n",
       " 'Kleists_Dramen',\n",
       " 'MONA',\n",
       " 'Dramen_Korpus',\n",
       " 'Dissertation_2']"
      ]
     },
     "execution_count": 3,
     "metadata": {},
     "output_type": "execute_result"
    }
   ],
   "source": [
    "my_catma.project_name_list"
   ]
  },
  {
   "cell_type": "markdown",
   "metadata": {},
   "source": [
    "## Clone and load a CATMA project <a class=\"anchor\" id=\"third-bullet\"></a>\n",
    "The `Catma` instance can be used to clone and load a CATMA project.\\\n",
    "The only neccessary argument is the project's name.\\\n",
    "Optionally, a backup directory can be specified.   "
   ]
  },
  {
   "cell_type": "code",
   "execution_count": 4,
   "metadata": {},
   "outputs": [
    {
     "name": "stdout",
     "output_type": "stream",
     "text": [
      "Loading Tagsets ...\n",
      "\t Found 1 Tagset(s).\n",
      "Loading Documents ...\n",
      "\t Found 1 Document(s).\n",
      "Loading Annotation Collections ...\n",
      "\t Loading Annotation Collection 'AC_2' for Kafka Franz Das Urteil\n",
      "\t-> with 6 Annotations.\n",
      "\t Loading Annotation Collection 'AC_1' for Kafka Franz Das Urteil\n",
      "\t-> with 7 Annotations.\n",
      "\t Loading Annotation Collection 'GOLD_ANNOTATION' for Kafka Franz Das Urteil\n",
      "\t-> with 2 Annotations.\n"
     ]
    }
   ],
   "source": [
    "my_catma.load_project_from_gitlab(\n",
    "    project_name='test_corpus',\n",
    "    backup_directory='../../test_backup_folder/12/'\n",
    ")"
   ]
  },
  {
   "cell_type": "markdown",
   "metadata": {},
   "source": [
    "## Process a CATMA Project with the `Catma` class <a class=\"anchor\" id=\"fourth-bullet\"></a>\n",
    "The cloned and loaded project now can be processed with the project dictionary.\\"
   ]
  },
  {
   "cell_type": "code",
   "execution_count": 5,
   "metadata": {},
   "outputs": [
    {
     "data": {
      "text/html": [
       "<div>\n",
       "<style scoped>\n",
       "    .dataframe tbody tr th:only-of-type {\n",
       "        vertical-align: middle;\n",
       "    }\n",
       "\n",
       "    .dataframe tbody tr th {\n",
       "        vertical-align: top;\n",
       "    }\n",
       "\n",
       "    .dataframe thead th {\n",
       "        text-align: right;\n",
       "    }\n",
       "</style>\n",
       "<table border=\"1\" class=\"dataframe\">\n",
       "  <thead>\n",
       "    <tr style=\"text-align: right;\">\n",
       "      <th></th>\n",
       "      <th>annotations</th>\n",
       "      <th>authors</th>\n",
       "      <th>tags</th>\n",
       "      <th>first_annotation</th>\n",
       "      <th>last_annotation</th>\n",
       "      <th>uuid</th>\n",
       "    </tr>\n",
       "  </thead>\n",
       "  <tbody>\n",
       "    <tr>\n",
       "      <th>ac_1</th>\n",
       "      <td>7</td>\n",
       "      <td>{MVauth}</td>\n",
       "      <td>{stative_event, process}</td>\n",
       "      <td>2021-08-19 13:45:10</td>\n",
       "      <td>2021-09-01 11:32:49</td>\n",
       "      <td>C_8AB3C081-E606-40B5-98D9-A51CBFE29E6D</td>\n",
       "    </tr>\n",
       "    <tr>\n",
       "      <th>ac_2</th>\n",
       "      <td>6</td>\n",
       "      <td>{MVauth}</td>\n",
       "      <td>{stative_event, process}</td>\n",
       "      <td>2021-08-19 14:08:20</td>\n",
       "      <td>2021-08-19 14:13:02</td>\n",
       "      <td>C_7EE5CB3F-41E8-4EA3-A7C7-41F0B19579C0</td>\n",
       "    </tr>\n",
       "    <tr>\n",
       "      <th>gold_annotation</th>\n",
       "      <td>2</td>\n",
       "      <td>{auto_gold}</td>\n",
       "      <td>{stative_event, process}</td>\n",
       "      <td>2021-09-01 10:31:36</td>\n",
       "      <td>2021-09-01 10:31:36</td>\n",
       "      <td>C_B5C8C7A3-445B-4F3D-B4DE-C27FA494FDCF</td>\n",
       "    </tr>\n",
       "  </tbody>\n",
       "</table>\n",
       "</div>"
      ],
      "text/plain": [
       "                annotations      authors                      tags  \\\n",
       "ac_1                      7     {MVauth}  {stative_event, process}   \n",
       "ac_2                      6     {MVauth}  {stative_event, process}   \n",
       "gold_annotation           2  {auto_gold}  {stative_event, process}   \n",
       "\n",
       "                   first_annotation     last_annotation  \\\n",
       "ac_1            2021-08-19 13:45:10 2021-09-01 11:32:49   \n",
       "ac_2            2021-08-19 14:08:20 2021-08-19 14:13:02   \n",
       "gold_annotation 2021-09-01 10:31:36 2021-09-01 10:31:36   \n",
       "\n",
       "                                                   uuid  \n",
       "ac_1             C_8AB3C081-E606-40B5-98D9-A51CBFE29E6D  \n",
       "ac_2             C_7EE5CB3F-41E8-4EA3-A7C7-41F0B19579C0  \n",
       "gold_annotation  C_B5C8C7A3-445B-4F3D-B4DE-C27FA494FDCF  "
      ]
     },
     "execution_count": 5,
     "metadata": {},
     "output_type": "execute_result"
    }
   ],
   "source": [
    "my_catma.project_dict['test_corpus'].stats()"
   ]
  },
  {
   "cell_type": "markdown",
   "metadata": {},
   "source": [
    "## Additional Functionalities of the `Catma` class <a class=\"anchor\" id=\"fifth-bullet\"></a>\n",
    "For processing CATMA projects see the other demo notebooks."
   ]
  },
  {
   "cell_type": "markdown",
   "metadata": {},
   "source": [
    "### Get the git command to clone a project in a terminal manually <a class=\"anchor\" id=\"5.1-bullet\"></a>"
   ]
  },
  {
   "cell_type": "code",
   "execution_count": 6,
   "metadata": {},
   "outputs": [
    {
     "data": {
      "text/plain": [
       "'git clone --recurse-submodules https://git.catma.de/CATMA_13BFDD7D-0F8F-40A5-ACB1-3B058F67BBF0_test_corpus/CATMA_13BFDD7D-0F8F-40A5-ACB1-3B058F67BBF0_test_corpus_root.git'"
      ]
     },
     "execution_count": 6,
     "metadata": {},
     "output_type": "execute_result"
    }
   ],
   "source": [
    "my_catma.git_clone_command(project_name='test_corpus')"
   ]
  },
  {
   "cell_type": "markdown",
   "metadata": {},
   "source": [
    "### Load all projects in your CATMA account <a class=\"anchor\" id=\"5.2-bullet\"></a>\n",
    "Depending on your CATMA account this will take a long time."
   ]
  },
  {
   "cell_type": "code",
   "execution_count": null,
   "metadata": {},
   "outputs": [],
   "source": [
    "# my_catma.load_all_projects_from_gitlab"
   ]
  }
 ],
 "metadata": {
  "interpreter": {
   "hash": "0aeb839bc1fa9071e2c89c506d6a5f005efc3f16a8f217a2b2b732963ddcf6b9"
  },
  "kernelspec": {
   "display_name": "Python 3.9.9 64-bit ('.gitma_venv': venv)",
   "language": "python",
   "name": "python3"
  },
  "language_info": {
   "codemirror_mode": {
    "name": "ipython",
    "version": 3
   },
   "file_extension": ".py",
   "mimetype": "text/x-python",
   "name": "python",
   "nbconvert_exporter": "python",
   "pygments_lexer": "ipython3",
   "version": "3.9.9"
  },
  "orig_nbformat": 4
 },
 "nbformat": 4,
 "nbformat_minor": 2
}
