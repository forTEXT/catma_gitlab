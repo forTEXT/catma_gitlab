{
 "cells": [
  {
   "cell_type": "markdown",
   "metadata": {},
   "source": [
    "# Explore your CATMA Profile an load CATMA Projects from the CATMA Gitlab\n",
    "To use this notebook you need [git](https://git-scm.com/downloads) on your machine installed.\n",
    "If you never used git before there may occur problems when using git via the gitma package.\n",
    "If this is the case consider to clone your first CATMA project using the terminal or the git bash.\n",
    "You can find a short introduction on the [CATMA website](https://catma.de/documentation/git-access/)."
   ]
  },
  {
   "cell_type": "markdown",
   "metadata": {},
   "source": [
    "## Table Of Contents\n",
    "* [Import the `Catma` class](#first-bullet)\n",
    "* [Load your CATMA profile](#second-bullet)\n",
    "* [Clone and load a CATMA project](#third-bullet)\n",
    "* [Process a CATMA Project with the `Catma` class](#fourth-bullet)\n",
    "* [Additional Functionalities of the `Catma` class](#fifth-bullet)\n",
    "  * [Get the git command to clone a project in a terminal manually](#5.1-bullet)\n",
    "  * [Load all projects in your CATMA account](#5.2-bullet)"
   ]
  },
  {
   "cell_type": "markdown",
   "metadata": {},
   "source": [
    "## Import the `Catma` class <a class=\"anchor\" id=\"first-bullet\"></a>"
   ]
  },
  {
   "cell_type": "code",
   "execution_count": null,
   "metadata": {},
   "outputs": [],
   "source": [
    "from gitma import Catma"
   ]
  },
  {
   "cell_type": "markdown",
   "metadata": {},
   "source": [
    "## Load your CATMA profile <a class=\"anchor\" id=\"second-bullet\"></a>\n",
    "The most convenient way to access your CATMA profile via git is a CATMA access token.\n",
    "If you need read-only access to your annotations use the access token generator in the CATMA UI.\n",
    "These access token are always valid for 2 months.\n",
    "\n",
    "<img src=\"demo_img/access_token_ui.PNG\">\n",
    "\n",
    "Otherwise, you can generate an access token directly in the [CATMA Gitlab](https://git.catma.de/users/sign_in) with \"**api**\" settings. \n",
    "Here you can decide for yourself how long the tokens are valid:\n",
    "\n",
    "<img src=\"demo_img/access_token_gitlab.PNG\">"
   ]
  },
  {
   "cell_type": "markdown",
   "metadata": {},
   "source": [
    "Your access token is the only parameter needed to load your CATMA account in Python:"
   ]
  },
  {
   "cell_type": "code",
   "execution_count": null,
   "metadata": {},
   "outputs": [],
   "source": [
    "your_access_token = ''\n",
    "my_catma = Catma(gitlab_access_token=your_access_token)"
   ]
  },
  {
   "cell_type": "markdown",
   "metadata": {},
   "source": [
    "First, let's look at your CATMA projects:"
   ]
  },
  {
   "cell_type": "code",
   "execution_count": null,
   "metadata": {},
   "outputs": [],
   "source": [
    "my_catma.project_name_list"
   ]
  },
  {
   "cell_type": "markdown",
   "metadata": {},
   "source": [
    "## Clone and load a CATMA project <a class=\"anchor\" id=\"third-bullet\"></a>\n",
    "The `Catma` instance can be used to clone and load a CATMA project.\\\n",
    "The only neccessary argument is the project's name.\\\n",
    "Optionally, a backup directory can be specified.   "
   ]
  },
  {
   "cell_type": "code",
   "execution_count": null,
   "metadata": {},
   "outputs": [],
   "source": [
    "my_catma.load_project_from_gitlab(\n",
    "    project_name='test_corpus',\n",
    "    backup_directory='../test/demo_project/'\n",
    ")"
   ]
  },
  {
   "cell_type": "markdown",
   "metadata": {},
   "source": [
    "## Process a CATMA Project with the `Catma` class <a class=\"anchor\" id=\"fourth-bullet\"></a>\n",
    "The cloned and loaded project now can be processed with the project dictionary.\\"
   ]
  },
  {
   "cell_type": "code",
   "execution_count": null,
   "metadata": {},
   "outputs": [],
   "source": [
    "my_catma.project_dict['test_corpus'].stats()"
   ]
  },
  {
   "cell_type": "markdown",
   "metadata": {},
   "source": [
    "## Additional Functionalities of the `Catma` class <a class=\"anchor\" id=\"fifth-bullet\"></a>\n",
    "For processing CATMA projects see the other demo notebooks."
   ]
  },
  {
   "cell_type": "markdown",
   "metadata": {},
   "source": [
    "### Get the git command to clone a project in a terminal manually <a class=\"anchor\" id=\"5.1-bullet\"></a>"
   ]
  },
  {
   "cell_type": "code",
   "execution_count": null,
   "metadata": {},
   "outputs": [],
   "source": [
    "my_catma.git_clone_command(project_name='test_corpus')"
   ]
  },
  {
   "cell_type": "markdown",
   "metadata": {},
   "source": [
    "### Load all projects in your CATMA account <a class=\"anchor\" id=\"5.2-bullet\"></a>\n",
    "Depending on your CATMA account this will take a long time."
   ]
  },
  {
   "cell_type": "code",
   "execution_count": null,
   "metadata": {},
   "outputs": [],
   "source": [
    "# my_catma.load_all_projects_from_gitlab"
   ]
  }
 ],
 "metadata": {
  "interpreter": {
   "hash": "0aeb839bc1fa9071e2c89c506d6a5f005efc3f16a8f217a2b2b732963ddcf6b9"
  },
  "kernelspec": {
   "display_name": "Python 3.9.9 64-bit ('.gitma_venv': venv)",
   "language": "python",
   "name": "python3"
  },
  "language_info": {
   "codemirror_mode": {
    "name": "ipython",
    "version": 3
   },
   "file_extension": ".py",
   "mimetype": "text/x-python",
   "name": "python",
   "nbconvert_exporter": "python",
   "pygments_lexer": "ipython3",
   "version": "3.9.10"
  },
  "orig_nbformat": 4
 },
 "nbformat": 4,
 "nbformat_minor": 2
}
