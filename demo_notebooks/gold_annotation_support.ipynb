{
 "cells": [
  {
   "cell_type": "markdown",
   "metadata": {},
   "source": [
    "# Gold Annotation Support\n",
    "This demo uses the demo CATMA project.\n",
    "If you want to use it for your own annotations you first have to clone your CATMA Project locally.\\\n",
    "See for further informations about cloning your CATMA Project this [Notebook](https://github.com/forTEXT/catma_gitlab/tree/main/demo_notebooks/load_project_from_gitlab.ipynb)."
   ]
  },
  {
   "cell_type": "markdown",
   "metadata": {},
   "source": [
    "## Table Of Contents\n",
    "* [Introduction](#1-bullet)\n",
    "* [Load the CATMA project](#2-bullet)\n",
    "* [Create automated Gold Annotation](#3-bullet)"
   ]
  },
  {
   "cell_type": "markdown",
   "metadata": {},
   "source": [
    "## Introduction <a class=\"anchor\" id=\"1-bullet\"></a>\n",
    "To support the creation of Gold Annotations, the catma_gitlab package can be used to copy the matching annotations of two annotators into a Gold Annotation Collection.\n",
    "In the CATMA user interface the missing annotations can be created manually and the automatically created Gold Annotation can be revised.\n",
    "\n",
    "What is considered a matching annotation can be customized.\n",
    "Explanations follow below.\n",
    "\n",
    "To proceed, it is necessary that an empty annotation collection has already been created in the CATMA UI, into which the Gold Annotation will be created. "
   ]
  },
  {
   "cell_type": "markdown",
   "metadata": {},
   "source": [
    "## Load the CATMA Project <a class=\"anchor\" id=\"2-bullet\"></a>"
   ]
  },
  {
   "cell_type": "code",
   "execution_count": 2,
   "metadata": {},
   "outputs": [],
   "source": [
    "from catma_gitlab import CatmaProject"
   ]
  },
  {
   "cell_type": "code",
   "execution_count": 3,
   "metadata": {},
   "outputs": [
    {
     "name": "stdout",
     "output_type": "stream",
     "text": [
      "Loading Tagsets ...\n",
      "\t Found 1 Tagset(s).\n",
      "Loading Documents ...\n",
      "\t Found 1 Document(s).\n",
      "Loading Annotation Collections ...\n",
      "\t Loading Annotation Collection 'ac_2' for Kafka Franz Das Urteil\n",
      "\t-> with 6 Annotations.\n",
      "\t Loading Annotation Collection 'ac_1' for Kafka Franz Das Urteil\n",
      "\t-> with 6 Annotations.\n",
      "\t Loading Annotation Collection 'gold_annotation' for Kafka Franz Das Urteil\n",
      "\t-> with 0 Annotations.\n"
     ]
    }
   ],
   "source": [
    "my_project = CatmaProject(\n",
    "    project_directory='../test/demo_project/',\n",
    "    project_uuid='test_corpus_root'\n",
    ")"
   ]
  },
  {
   "cell_type": "markdown",
   "metadata": {},
   "source": [
    "As can been seen above, there has been created an empty annotation collection.\n",
    "We will use this annotation collection as target location for the gold annotations."
   ]
  },
  {
   "cell_type": "markdown",
   "metadata": {},
   "source": [
    "## Create Automated Gold Annotation <a class=\"anchor\" id=\"3-bullet\"></a>\n",
    "The method `create_gold_annotations()` compares 2 Annotation Collections.\n",
    "These are named by the first 2 arguments: `ac_1_name` and `ac_2_name`\n",
    "This is followed by the:\n",
    "- name of the Gold Annotation Collection: `gold_ac_name`\n",
    "- a list with tag names, that should not be considered when creating the gold annotations: `excluded_tags`\n",
    "- the minimal annotation overlap that is consindered a match: `min_overlap`. At least, this should be set to `0.5`.\n",
    "- whether only annotations with the same tag are considered a match: `same_tag`.\n",
    " If your annotation project is more focused on segmention or unitizing this might be set to `False`.\n",
    "- whether `'matching'` or `'none'` Property Values should be included in the gold annotations: `property_values`\n",
    "- whether the new created gold annotations should be pushed to the CATMA GitLab: `push_to_gitlab`"
   ]
  },
  {
   "cell_type": "code",
   "execution_count": 4,
   "metadata": {},
   "outputs": [
    {
     "name": "stdout",
     "output_type": "stream",
     "text": [
      "\n",
      "Found 6 annotations in Annotation Collection: 'ac_1'.\n",
      "Found 6 annotations in Annotation Collection: 'ac_2'.\n",
      "-------------\n",
      "Wrote 2 gold annotations in Annotation Collection 'gold_annotation'.\n",
      "\n"
     ]
    }
   ],
   "source": [
    "my_project.create_gold_annotations(\n",
    "    ac_1_name='ac_1',               # change to your collection name if you don't use the demo project\n",
    "    ac_2_name='ac_2',               # change to your collection name if you don't use the demo project\n",
    "    gold_ac_name='gold_annotation',\n",
    "    excluded_tags=[],\n",
    "    min_overlap=0.95,               # raise to 1.0 if only full annotation pairs with full span matching shall be included in gold annotations\n",
    "    same_tag=True,\n",
    "    property_values='matching',     \n",
    "    push_to_gitlab=False            # The push to gitlab will not work with the demo project\n",
    ")"
   ]
  },
  {
   "cell_type": "markdown",
   "metadata": {},
   "source": [
    "Additionaly to the new created gold annotations, the method `create_gold_annotations()` returns a short report.\n",
    "In the demo project, only two annotations met the defined criteria for matches.\n",
    "\n",
    "If you set `push_to_gitlab` to `True` you can continue to work with the gold annotations after you synchronized the project in the CATMA User Interface:\n",
    "<img src=\"demo_img/project_synchronize.PNG\">"
   ]
  }
 ],
 "metadata": {
  "interpreter": {
   "hash": "0aeb839bc1fa9071e2c89c506d6a5f005efc3f16a8f217a2b2b732963ddcf6b9"
  },
  "kernelspec": {
   "display_name": "Python 3.9.9 64-bit ('.gitma_venv': venv)",
   "language": "python",
   "name": "python3"
  },
  "language_info": {
   "codemirror_mode": {
    "name": "ipython",
    "version": 3
   },
   "file_extension": ".py",
   "mimetype": "text/x-python",
   "name": "python",
   "nbconvert_exporter": "python",
   "pygments_lexer": "ipython3",
   "version": "3.9.9"
  },
  "orig_nbformat": 4
 },
 "nbformat": 4,
 "nbformat_minor": 2
}
