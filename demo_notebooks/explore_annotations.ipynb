{
 "cells": [
  {
   "cell_type": "markdown",
   "metadata": {},
   "source": [
    "# Explore Annotations\n",
    "This demo uses the demo CATMA project.\n",
    "If you want to use it for your own annotations you first have to clone your CATMA Project locally.\\\n",
    "See for further informations about cloning your CATMA Project this [Notebook](https://github.com/forTEXT/gitma/tree/main/demo_notebooks/load_project_from_gitlab.ipynb)."
   ]
  },
  {
   "cell_type": "markdown",
   "metadata": {},
   "source": [
    "## Table Of Contents\n",
    "* [Load your CATMA project](#1-bullet)\n",
    "* [General Project Stats](#2-bullet)\n",
    "* [Annotation Overview for the Project](#3-bullet)\n",
    "* [Plot Annotations for specified Annotation Collection](#4-bullet)\n",
    "* [Annotation Collection as Pandas DataFrame](#5-bullet)\n",
    "* [Annotation Stats by Tags](#6-bullet)\n",
    "* [Annotation Stats by Properties](#7-bullet)"
   ]
  },
  {
   "cell_type": "markdown",
   "metadata": {},
   "source": [
    "## Load a CATMA project <a class=\"anchor\" id=\"1-bullet\"></a>"
   ]
  },
  {
   "cell_type": "code",
   "execution_count": null,
   "metadata": {},
   "outputs": [],
   "source": [
    "from gitma import CatmaProject"
   ]
  },
  {
   "cell_type": "code",
   "execution_count": null,
   "metadata": {},
   "outputs": [],
   "source": [
    "my_project = CatmaProject(\n",
    "    project_directory='../test/demo_project/',\n",
    "    project_name='test_corpus'\n",
    ")"
   ]
  },
  {
   "cell_type": "markdown",
   "metadata": {},
   "source": [
    "## General Project Stats <a class=\"anchor\" id=\"2-bullet\"></a>\n",
    "The method `stats()` show you some metadata to your annotation collections."
   ]
  },
  {
   "cell_type": "code",
   "execution_count": null,
   "metadata": {},
   "outputs": [],
   "source": [
    "my_project.stats()"
   ]
  },
  {
   "cell_type": "markdown",
   "metadata": {},
   "source": [
    "## Annotation Overview for the complete Project <a class=\"anchor\" id=\"3-bullet\"></a>\n",
    "Using the method `plot_interactive()` the annotations of each annotation collection and each document get plotted as a single subplot.\n",
    "\n",
    "In the demo project exists only one annotated document."
   ]
  },
  {
   "cell_type": "code",
   "execution_count": null,
   "metadata": {},
   "outputs": [],
   "source": [
    "my_project.plot_interactive(color_col='annotator')"
   ]
  },
  {
   "cell_type": "code",
   "execution_count": null,
   "metadata": {},
   "outputs": [],
   "source": [
    "my_project.plot_interactive(color_col='annotation collection')"
   ]
  },
  {
   "cell_type": "code",
   "execution_count": null,
   "metadata": {},
   "outputs": [],
   "source": [
    "my_project.plot_interactive(color_col='tag')"
   ]
  },
  {
   "cell_type": "markdown",
   "metadata": {},
   "source": [
    "## Plot Annotations for specified Annotation Collection <a class=\"anchor\" id=\"4-bullet\"></a>\n",
    "The annotations of single annotation collections can be plotted as interactive [Plotly](https://plotly.com/python/) plot, too.\n",
    "The annotations can be explored with respect to\n",
    "- their tag: y-axis\n",
    "- their text position: x-axis\n",
    "- the annotated text passages: mouse over\n",
    "- their properties: mouse over"
   ]
  },
  {
   "cell_type": "code",
   "execution_count": null,
   "metadata": {},
   "outputs": [],
   "source": [
    "my_project.ac_dict['ac_2'].plot_annotations()"
   ]
  },
  {
   "cell_type": "markdown",
   "metadata": {},
   "source": [
    "You can customize the plot by choosing annotation properties for the y_axis and the scatter color."
   ]
  },
  {
   "cell_type": "code",
   "execution_count": null,
   "metadata": {},
   "outputs": [],
   "source": [
    "my_project.ac_dict['ac_2'].plot_annotations(\n",
    "    prop='mental')"
   ]
  },
  {
   "cell_type": "code",
   "execution_count": null,
   "metadata": {},
   "outputs": [],
   "source": [
    "my_project.ac_dict['ac_1'].plot_annotations(\n",
    "    y_axis='annotator', color_prop='unpredictable')"
   ]
  },
  {
   "cell_type": "markdown",
   "metadata": {},
   "source": [
    "## Annotations as Pandas DataFrame <a class=\"anchor\" id=\"5-bullet\"></a>"
   ]
  },
  {
   "cell_type": "code",
   "execution_count": null,
   "metadata": {},
   "outputs": [],
   "source": [
    "my_project.ac_dict['ac_2'].df"
   ]
  },
  {
   "cell_type": "markdown",
   "metadata": {},
   "source": [
    "## Annotation Stats by Tags <a class=\"anchor\" id=\"6-bullet\"></a>\n",
    "The `tag_stats()` method counts for each tag\n",
    "- the number of annotations\n",
    "- the full text span annotated by the tag\n",
    "- the average text span of the annotations\n",
    "- the most frequent tokens (here, it is possible to define a stopword list)"
   ]
  },
  {
   "cell_type": "code",
   "execution_count": null,
   "metadata": {},
   "outputs": [],
   "source": [
    "my_project.ac_dict['ac_2'].tag_stats(ranking=5)"
   ]
  },
  {
   "cell_type": "markdown",
   "metadata": {},
   "source": [
    "Additionally, you can use the method for Properties if you used any in the annotation process and different annotators:"
   ]
  },
  {
   "cell_type": "code",
   "execution_count": null,
   "metadata": {},
   "outputs": [],
   "source": [
    "my_project.ac_dict['ac_2'].tag_stats(tag_col='prop:mental', ranking=3, stopwords=['in', 'im'])"
   ]
  },
  {
   "cell_type": "markdown",
   "metadata": {},
   "source": [
    "Here, every row shows the data for the different Property Values."
   ]
  },
  {
   "cell_type": "code",
   "execution_count": null,
   "metadata": {},
   "outputs": [],
   "source": [
    "my_project.ac_dict['ac_2'].tag_stats(tag_col='annotator', ranking=3)"
   ]
  },
  {
   "cell_type": "markdown",
   "metadata": {},
   "source": [
    "Here, every row shows the data for the different annotators."
   ]
  },
  {
   "cell_type": "markdown",
   "metadata": {},
   "source": [
    "## Annotation Stats by Properties / Property Values <a class=\"anchor\" id=\"7-bullet\"></a>"
   ]
  },
  {
   "cell_type": "code",
   "execution_count": null,
   "metadata": {},
   "outputs": [],
   "source": [
    "my_project.ac_dict['ac_2'].property_stats()"
   ]
  }
 ],
 "metadata": {
  "interpreter": {
   "hash": "87fea37bc2fc5e48df9c556e0c5d422e790f997aa4713ca3dbac94eb0b0e073b"
  },
  "kernelspec": {
   "display_name": "Python 3.8.10 64-bit (windows store)",
   "language": "python",
   "name": "python3"
  },
  "language_info": {
   "codemirror_mode": {
    "name": "ipython",
    "version": 3
   },
   "file_extension": ".py",
   "mimetype": "text/x-python",
   "name": "python",
   "nbconvert_exporter": "python",
   "pygments_lexer": "ipython3",
   "version": "3.9.10"
  },
  "orig_nbformat": 4
 },
 "nbformat": 4,
 "nbformat_minor": 2
}
