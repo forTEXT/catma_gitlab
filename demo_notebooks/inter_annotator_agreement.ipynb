{
 "cells": [
  {
   "cell_type": "markdown",
   "metadata": {},
   "source": [
    "# Inter Annotator Agreement (IAA) with gitma\n",
    "\n",
    "The gitma package provides two methods to compute the agreement of two or more annotators.\n",
    "Both methods compare annotation collections.\n",
    "For that reason, it is recommended to use one annotation collection per annotator and document.\n",
    "Additionally, it is recommended to name every annotation collection by a combination of the <span style=\"color:pink\">document's title</span>, the <span style=\"color:red\">annotation task</span> and the <span style=\"color:green\">annotator</span>.\n",
    "\n",
    "**Example:**  <span style=\"color:pink\">rubinson_crueso</span>-<span style=\"color:red\">narrative_space</span>-<span style=\"color:green\">mareike</span>\n",
    "\n",
    "## Dependencies\n",
    "\n",
    "### nltk\n",
    "\n",
    "Both methods to compute the IAA use packages that don't get installed with gitma by default.\n",
    "If you are only interested in IAA metrics such as *Scott's pi*, *Cohen's kappa* and *Krippendorf's alpha*\n",
    "the installation of the [Natural Language Toolkit](https://www.nltk.org/) is sufficient:\n",
    "\n",
    "    pip install nltk\n",
    "\n",
    "### pygamma_agreement\n",
    "\n",
    "The gamma agreement takes unitizing as part of annotation tasks into account\n",
    "(see [Mathet et al. 2015](https://watermark.silverchair.com/coli_a_00227.pdf?token=AQECAHi208BE49Ooan9kkhW_Ercy7Dm3ZL_9Cf3qfKAc485ysgAAAsIwggK-BgkqhkiG9w0BBwagggKvMIICqwIBADCCAqQGCSqGSIb3DQEHATAeBglghkgBZQMEAS4wEQQMyMMaVYZBoX9znulIAgEQgIICdcXaIROcjaVrG686Y8MbKCDLINhO9N1vw5uOJOJShc3XANoIUnzebJcOwEmQLXo-sEfzscvk3C0fxSz6FN366vSE6P1rxte_YRurfJzgCMaiUz92Xh4Texplkgm0ihcRCXL3mw6vBbVSzV3WmfKGV3pyOJbOZrFoY5SMS8Oak1z6Ox8cg7dy2nvNJnn7m_ZV29R1s7z-CShjXX6re2jX6Nm4iSeQTqfDU5z8_TEH-G7Q61jT7AF-VAcsLC9r91AgDYssNNnEGodmgQOcSNSROAbWyyRAbURaHKaJPdfwuFqKQ873U7LhMV8Qu8gyP1tSMKBBT59eccs129r6q9aeJVA7LwvjRoY5XLlINwRetXkX6haJmfrza5jCJ0o6fNXk5w_p-_J_pcpzw0usY9J1nErEPG_ugW2aGmOh4pLgP1r9Bi77BtRMzN-q20TblioMiffKDBjkn9tDs83XeFxRNq9GsCZRLs8BXeFa9aefnzeTRgSRDop6kVXDmZQBpcBaxMaZuGtLP1Y4HMfbB2za6cBk2HzPtTvoRjaxqXUZ9WkkXXy6_MUWDOWjLe5CWG2wXWQrEQfCfvd5xmT29f6b6GxWh-80skkLCzcMDWz_rTQceex7L1l4gBvU5A0ChUK54kv_Xw9XjOkVTbYYXQDdiqaxFttNty_mWzJwcRpEyLAdCTMRBjpqRzBdYywtsrsQPHINFGK7NkkKkx_weGI7um5BiOT78C29wqshiADF-wKVG0mFQbPzfVpddgfvgjxQZ9bfKrI-HwkOttHV4I9U7YACHOrbC4iSSyO98oEc7dYpKBqowB7ypHarLP298TwEzfqOdww0)).\n",
    "For many annotation projects done within CATMA that might be crucial.\n",
    "If you want to compute the gamma agreement with gitma the installation of [pygamma-agreement](https://github.com/bootphon/pygamma-agreement) is required:\n",
    "\n",
    "    pip install pygamma-agreement\n",
    "\n",
    "Please take note of the **further installation instructions** on the [pygamma site](https://github.com/bootphon/pygamma-agreement#installation) and the [*'how to cite'*](https://github.com/bootphon/pygamma-agreement#citing-pygamma)!\n",
    "\n",
    "\n"
   ]
  },
  {
   "cell_type": "code",
   "execution_count": null,
   "metadata": {},
   "outputs": [],
   "source": [
    "# import the CatmaProject class\n",
    "from gitma import CatmaProject\n",
    "\n",
    "# load your project\n",
    "my_project = CatmaProject(\n",
    "    project_name='test_corpus',\n",
    "    project_directory='../test/demo_project/'\n",
    ")"
   ]
  },
  {
   "cell_type": "markdown",
   "metadata": {},
   "source": [
    "## `get_iaa()`\n",
    "\n",
    "In the test project exist three annotation collection.\n",
    "In this demo we will compute the agreement of the collections 'ac_1' and 'ac_2'.\n",
    "\n",
    "The `get_iaa` method searches for every annotation in annotation collection 1 (`ac1_name`) the best matching annotation\n",
    "in annotation collection 2 (`ac2_name`) with respect to its annotation text span.\n",
    "The following examples show how matching annotations in 2 annotation collections get identified:\n",
    "\n",
    "<img src=\"demo_img/best_match_example_iaa.png\">\n",
    "\n",
    "In contrast to the `gamma_agreement` method (see below), the `get_iaa` method only considers the best matching annotations\n",
    "from both annotation collections when computing the IAA value.\n",
    "\n",
    "### Basic Example\n",
    "\n",
    "First, we will take look at both annotation collections by comparing the annotation spans."
   ]
  },
  {
   "cell_type": "code",
   "execution_count": null,
   "metadata": {},
   "outputs": [],
   "source": [
    "# compare the annotation collections by start point\n",
    "my_project.compare_annotation_collections(\n",
    "    annotation_collections=['ac_1', 'ac_2']\n",
    ")"
   ]
  },
  {
   "cell_type": "markdown",
   "metadata": {},
   "source": [
    "As the line plot shows, every annotation in annotations collection 'ac_1' has a matching annotation in annotations collection 'ac_2'.\n",
    "\n",
    "Now, let's compute the IAA for all matching annotations:"
   ]
  },
  {
   "cell_type": "code",
   "execution_count": null,
   "metadata": {},
   "outputs": [],
   "source": [
    "my_project.get_iaa(\n",
    "    ac1_name='ac_1',\n",
    "    ac2_name='ac_2'\n",
    ")"
   ]
  },
  {
   "cell_type": "markdown",
   "metadata": {},
   "source": [
    "The `get_iaa` method not only returns 3 different agreement scores\n",
    "but reports also the number of annotation pairs considered when computing the IAA scores\n",
    "and the average overlap of the annotation pairs.\n",
    "Additionally, the method returns a confusion matrix to give an inside into the relation between the tags.\n",
    "As you can see in the matrix, in 3 cases a annotation with the tag 'stative_event' in annotation collection 1\n",
    "has a best match in annotation collection 2 with the same tag.\n",
    "These are the first 3 annotations in annotation collection 1, as the line plot above shows.\n",
    "\n",
    "### Filter by Tags\n",
    "\n",
    "There may occur cases in which you don't want to include all annotations in the computing of\n",
    "the IAA scores.\n",
    "If those cases just use the `tag_filter` parameter, which takes any list of tag names as argument."
   ]
  },
  {
   "cell_type": "code",
   "execution_count": null,
   "metadata": {},
   "outputs": [],
   "source": [
    "my_project.get_iaa(\n",
    "    ac1_name='ac_1',\n",
    "    ac2_name='ac_2',\n",
    "    tag_filter=['process']\n",
    ")"
   ]
  },
  {
   "cell_type": "markdown",
   "metadata": {},
   "source": [
    "As the confusion matrix shows, only the annototations from annotation collection 1\n",
    "with the tag 'process' have been taken into account.\n",
    "From annotation collection 2 there still is one annotation considered with the tag 'stative_event'.\n",
    "But we can filter both annotation collection, too: "
   ]
  },
  {
   "cell_type": "code",
   "execution_count": null,
   "metadata": {},
   "outputs": [],
   "source": [
    "my_project.get_iaa(\n",
    "    ac1_name='ac_1',\n",
    "    ac2_name='ac_2',\n",
    "    tag_filter=['process'],\n",
    "    filter_both_ac=True\n",
    ")"
   ]
  },
  {
   "cell_type": "markdown",
   "metadata": {},
   "source": [
    "Because we only use two tags in the demo project this leads to the same IAA results.\n",
    "\n",
    "### Compare Property Annotations\n",
    "\n",
    "Their tag is only one level of CATMA annotations.\n",
    "If you want to compare annotations by their properties this is possible too.\n",
    "In the demo project the annotations have the property 'mental' to evaluate if a mental\n",
    "event is referenced in the text:"
   ]
  },
  {
   "cell_type": "code",
   "execution_count": null,
   "metadata": {},
   "outputs": [],
   "source": [
    "my_project.compare_annotation_collections(\n",
    "    annotation_collections=['ac_1', 'ac_2'],\n",
    "    color_col='prop:mental'\n",
    ")"
   ]
  },
  {
   "cell_type": "markdown",
   "metadata": {},
   "source": [
    "To compute the agreement of property annotations you just have to use the `level` parameter:"
   ]
  },
  {
   "cell_type": "code",
   "execution_count": null,
   "metadata": {},
   "outputs": [],
   "source": [
    "my_project.get_iaa(\n",
    "    ac1_name='ac_1',\n",
    "    ac2_name='ac_2',\n",
    "    level='prop:mental'\n",
    ")"
   ]
  },
  {
   "cell_type": "markdown",
   "metadata": {},
   "source": [
    "This example shows that in some cases the `get_iaa` method ignores disagreeing annotations,\n",
    "because they are not the best matching annotation.\n",
    "In the last annotation span of annotation collection 1 we can find one discontinuous and one embedded\n",
    "annotation in annotation collection one.\n",
    "But only the discontinuous annotations gets considered when computing the IAA because it is the better match to\n",
    "the last annotation in annotation collection 1.\n",
    "\n",
    "Again, if unitizing plays an important role in your annotation task we recommend the gamma agreement method."
   ]
  },
  {
   "cell_type": "markdown",
   "metadata": {},
   "source": [
    "## `gamma_agreement()`\n",
    "\n",
    "To compute the gamma agreement additionaly to the annotation collections 5 further parameter\n",
    "have to be defined.\n",
    "The `alpha`, `beta` and `delta_empty` are necessary to compute the\n",
    "[`CombinedCategoricalDissimilarity`](https://github.com/bootphon/pygamma-agreement/blob/master/pygamma_agreement/dissimilarity.py#L467).\n",
    "The `n_samples` and the `precision_level` value are used in the \n",
    "[`compute_gamma()` method](https://github.com/bootphon/pygamma-agreement/blob/master/pygamma_agreement/continuum.py#L805).\n",
    "See the documentations in pygamma and\n",
    "[Mathet et al. 2015](https://watermark.silverchair.com/coli_a_00227.pdf?token=AQECAHi208BE49Ooan9kkhW_Ercy7Dm3ZL_9Cf3qfKAc485ysgAAAsIwggK-BgkqhkiG9w0BBwagggKvMIICqwIBADCCAqQGCSqGSIb3DQEHATAeBglghkgBZQMEAS4wEQQMyMMaVYZBoX9znulIAgEQgIICdcXaIROcjaVrG686Y8MbKCDLINhO9N1vw5uOJOJShc3XANoIUnzebJcOwEmQLXo-sEfzscvk3C0fxSz6FN366vSE6P1rxte_YRurfJzgCMaiUz92Xh4Texplkgm0ihcRCXL3mw6vBbVSzV3WmfKGV3pyOJbOZrFoY5SMS8Oak1z6Ox8cg7dy2nvNJnn7m_ZV29R1s7z-CShjXX6re2jX6Nm4iSeQTqfDU5z8_TEH-G7Q61jT7AF-VAcsLC9r91AgDYssNNnEGodmgQOcSNSROAbWyyRAbURaHKaJPdfwuFqKQ873U7LhMV8Qu8gyP1tSMKBBT59eccs129r6q9aeJVA7LwvjRoY5XLlINwRetXkX6haJmfrza5jCJ0o6fNXk5w_p-_J_pcpzw0usY9J1nErEPG_ugW2aGmOh4pLgP1r9Bi77BtRMzN-q20TblioMiffKDBjkn9tDs83XeFxRNq9GsCZRLs8BXeFa9aefnzeTRgSRDop6kVXDmZQBpcBaxMaZuGtLP1Y4HMfbB2za6cBk2HzPtTvoRjaxqXUZ9WkkXXy6_MUWDOWjLe5CWG2wXWQrEQfCfvd5xmT29f6b6GxWh-80skkLCzcMDWz_rTQceex7L1l4gBvU5A0ChUK54kv_Xw9XjOkVTbYYXQDdiqaxFttNty_mWzJwcRpEyLAdCTMRBjpqRzBdYywtsrsQPHINFGK7NkkKkx_weGI7um5BiOT78C29wqshiADF-wKVG0mFQbPzfVpddgfvgjxQZ9bfKrI-HwkOttHV4I9U7YACHOrbC4iSSyO98oEc7dYpKBqowB7ypHarLP298TwEzfqOdww0)\n",
    "for further information about these parameters."
   ]
  },
  {
   "cell_type": "code",
   "execution_count": null,
   "metadata": {},
   "outputs": [],
   "source": [
    "# gamma agreement with default settings\n",
    "my_project.gamma_agreement(\n",
    "    annotation_collections=['ac_1', 'ac_2'],\n",
    "    alpha=3,\n",
    "    beta=1,\n",
    "    delta_empty=0.01,\n",
    "    n_samples=30,\n",
    "    precision_level=0.01\n",
    ")"
   ]
  },
  {
   "cell_type": "markdown",
   "metadata": {},
   "source": [
    "If you want to work with a different dissimillarity algorithm\n",
    "consider to use pygamma directly.\n",
    "For this purpose you can save all annotations in a project as a csv\n",
    "in the format pygamma takes as input:"
   ]
  },
  {
   "cell_type": "code",
   "execution_count": null,
   "metadata": {},
   "outputs": [],
   "source": [
    "pygamma_df = my_project.pygamma_table(\n",
    "    annotation_collections=['ac_1', 'ac_2']\n",
    ")\n",
    "\n",
    "# save\n",
    "pygamma_df.to_csv('../test/pygamma_table.csv', index=False, header=False)\n",
    "\n",
    "# show example\n",
    "pygamma_df.head(5)"
   ]
  }
 ],
 "metadata": {
  "interpreter": {
   "hash": "0aeb839bc1fa9071e2c89c506d6a5f005efc3f16a8f217a2b2b732963ddcf6b9"
  },
  "kernelspec": {
   "display_name": "Python 3.9.10 ('.gitma_venv': venv)",
   "language": "python",
   "name": "python3"
  },
  "language_info": {
   "codemirror_mode": {
    "name": "ipython",
    "version": 3
   },
   "file_extension": ".py",
   "mimetype": "text/x-python",
   "name": "python",
   "nbconvert_exporter": "python",
   "pygments_lexer": "ipython3",
   "version": "3.9.10"
  },
  "orig_nbformat": 4
 },
 "nbformat": 4,
 "nbformat_minor": 2
}
