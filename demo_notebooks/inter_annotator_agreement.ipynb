{
 "cells": [
  {
   "cell_type": "markdown",
   "metadata": {},
   "source": [
    "# Inter Annotator Agreement (IAA) with gitma\n",
    "\n",
    "The gitma package provides two methods to compute the agreement of two annotators.\n",
    "Both methods compare annotation collections.\n",
    "For that reason, it is recommended to use one annotation collection per annotator and document.\n",
    "Additionally, it is recommended to name every annotation collection by a combination of the <span style=\"color:pink\">document's title</span>, the <span style=\"color:red\">annotation task</span> and the <span style=\"color:green\">annotator</span>.\n",
    "\n",
    "**Example:**  <span style=\"color:pink\">rubinson_crueso</span>-<span style=\"color:red\">narrative_space</span>-<span style=\"color:green\">mareike</span>\n",
    "\n",
    "## Dependencies\n",
    "\n",
    "### nltk\n",
    "\n",
    "Both methods to compute the IAA use packages that don't get installed with gitma by default.\n",
    "If you are only interested in IAA metrics such as *Scott's pi*, *Cohen's kappa* and *Krippendorf's alpha*\n",
    "the installation of the [Natural Language Toolkit](https://www.nltk.org/) is sufficient:\n",
    "\n",
    "    pip install nltk\n",
    "\n",
    "### pygamma_agreement\n",
    "\n",
    "The gamma agreement takes unitizing as part of annotation tasks into account\n",
    "(see [Mathet et al. 2015](https://watermark.silverchair.com/coli_a_00227.pdf?token=AQECAHi208BE49Ooan9kkhW_Ercy7Dm3ZL_9Cf3qfKAc485ysgAAAsIwggK-BgkqhkiG9w0BBwagggKvMIICqwIBADCCAqQGCSqGSIb3DQEHATAeBglghkgBZQMEAS4wEQQMyMMaVYZBoX9znulIAgEQgIICdcXaIROcjaVrG686Y8MbKCDLINhO9N1vw5uOJOJShc3XANoIUnzebJcOwEmQLXo-sEfzscvk3C0fxSz6FN366vSE6P1rxte_YRurfJzgCMaiUz92Xh4Texplkgm0ihcRCXL3mw6vBbVSzV3WmfKGV3pyOJbOZrFoY5SMS8Oak1z6Ox8cg7dy2nvNJnn7m_ZV29R1s7z-CShjXX6re2jX6Nm4iSeQTqfDU5z8_TEH-G7Q61jT7AF-VAcsLC9r91AgDYssNNnEGodmgQOcSNSROAbWyyRAbURaHKaJPdfwuFqKQ873U7LhMV8Qu8gyP1tSMKBBT59eccs129r6q9aeJVA7LwvjRoY5XLlINwRetXkX6haJmfrza5jCJ0o6fNXk5w_p-_J_pcpzw0usY9J1nErEPG_ugW2aGmOh4pLgP1r9Bi77BtRMzN-q20TblioMiffKDBjkn9tDs83XeFxRNq9GsCZRLs8BXeFa9aefnzeTRgSRDop6kVXDmZQBpcBaxMaZuGtLP1Y4HMfbB2za6cBk2HzPtTvoRjaxqXUZ9WkkXXy6_MUWDOWjLe5CWG2wXWQrEQfCfvd5xmT29f6b6GxWh-80skkLCzcMDWz_rTQceex7L1l4gBvU5A0ChUK54kv_Xw9XjOkVTbYYXQDdiqaxFttNty_mWzJwcRpEyLAdCTMRBjpqRzBdYywtsrsQPHINFGK7NkkKkx_weGI7um5BiOT78C29wqshiADF-wKVG0mFQbPzfVpddgfvgjxQZ9bfKrI-HwkOttHV4I9U7YACHOrbC4iSSyO98oEc7dYpKBqowB7ypHarLP298TwEzfqOdww0)).\n",
    "For many annotation projects done within CATMA that might be crucial.\n",
    "If you want to compute the gamma agreement with gitma the installation of [pygamma-agreement](https://github.com/bootphon/pygamma-agreement) is required:\n",
    "\n",
    "    pip install pygamma-agreement\n",
    "\n",
    "Please take note of the **further installation instructions** on the [pygamma site](https://github.com/bootphon/pygamma-agreement#installation) and the [*'how to cite'*](https://github.com/bootphon/pygamma-agreement#citing-pygamma)!\n",
    "\n",
    "\n"
   ]
  },
  {
   "cell_type": "code",
   "execution_count": 1,
   "metadata": {},
   "outputs": [
    {
     "name": "stdout",
     "output_type": "stream",
     "text": [
      "Loading Tagsets ...\n",
      "\t Found 1 Tagset(s).\n",
      "Loading Documents ...\n",
      "\t Found 1 Document(s).\n",
      "Loading Annotation Collections ...\n",
      "\t Loading Annotation Collection 'ac_2' for Kafka Franz Das Urteil\n",
      "\t-> with 6 Annotations.\n",
      "\t Loading Annotation Collection 'ac_1' for Kafka Franz Das Urteil\n",
      "\t-> with 6 Annotations.\n",
      "\t Loading Annotation Collection 'gold_annotation' for Kafka Franz Das Urteil\n",
      "\t-> with 0 Annotations.\n"
     ]
    }
   ],
   "source": [
    "# import the CatmaProject class\n",
    "from gitma import CatmaProject\n",
    "\n",
    "# load your project\n",
    "my_project = CatmaProject(\n",
    "    project_name='test_corpus',\n",
    "    project_directory='../test/demo_project/'\n",
    ")"
   ]
  },
  {
   "cell_type": "markdown",
   "metadata": {},
   "source": [
    "## `get_iaa()`\n",
    "\n",
    "In the test project exist three annotation collection.\n",
    "In this demo we will compute the agreement of the collections 'ac_1' and 'ac_2'.\n",
    "\n",
    "The `get_iaa` method searches for every annotation in annotation collection 1 (`ac1_name`) the best matching annotation\n",
    "in annotation collection 2 (`ac2_name`) with respect to its annotation text span.\n",
    "The following examples show how matching annotations in 2 annotation collections get identified:\n",
    "\n",
    "<img src=\"demo_img/best_match_example_iaa.PNG\">\n",
    "\n",
    "In contrast to the `gamma_agreement` method (see below), the `get_iaa` method only considers the best matching annotations\n",
    "from both annotation collections when computing the IAA value.\n",
    "\n",
    "### Basic Example\n",
    "\n",
    "First, we will take look at both annotation collections by comparing the annotation spans."
   ]
  },
  {
   "cell_type": "code",
   "execution_count": 2,
   "metadata": {},
   "outputs": [
    {
     "data": {
      "application/vnd.plotly.v1+json": {
       "config": {
        "plotlyServerURL": "https://plot.ly"
       },
       "data": [
        {
         "legendgroup": "stative_event",
         "marker": {
          "color": "#093658"
         },
         "mode": "lines+markers",
         "name": "stative_event",
         "showlegend": true,
         "text": "<I><br>Es war an einem Sonntagvormittag im schönsten Frühjahr.<br></I>",
         "type": "scatter",
         "x": [
          67,
          122
         ],
         "y": [
          "ac_1",
          "ac_1"
         ]
        },
        {
         "legendgroup": "stative_event",
         "marker": {
          "color": "#093658"
         },
         "mode": "lines+markers",
         "name": "stative_event",
         "showlegend": false,
         "text": "<I><br>Georg Bendemann, ein junger Kaufmann, saß in seinem Privatzimmer im<br>ersten Stock eines der niedrigen, leichtgebauten Häuser<br></I>",
         "type": "scatter",
         "x": [
          123,
          246
         ],
         "y": [
          "ac_1",
          "ac_1"
         ]
        },
        {
         "legendgroup": "stative_event",
         "marker": {
          "color": "#093658"
         },
         "mode": "lines+markers",
         "name": "stative_event",
         "showlegend": false,
         "text": "<I><br>die entlang des Flusses in einer langen Reihe, fast nur<br>in der Höhe und Färbung unterschieden, sich hinzogen<br></I>",
         "type": "scatter",
         "x": [
          248,
          356
         ],
         "y": [
          "ac_1",
          "ac_1"
         ]
        },
        {
         "legendgroup": "process",
         "marker": {
          "color": "#A64B21"
         },
         "mode": "lines+markers",
         "name": "process",
         "showlegend": true,
         "text": "<I><br>Er hatte gerade einen Brief an einen sich im Ausland<br>befindenden Jugendfreund beendet<br></I>",
         "type": "scatter",
         "x": [
          358,
          443
         ],
         "y": [
          "ac_1",
          "ac_1"
         ]
        },
        {
         "legendgroup": "process",
         "marker": {
          "color": "#A64B21"
         },
         "mode": "lines+markers",
         "name": "process",
         "showlegend": false,
         "text": "<I><br>verschloß ihn in spielerischer Langsamkeit<br></I>",
         "type": "scatter",
         "x": [
          445,
          487
         ],
         "y": [
          "ac_1",
          "ac_1"
         ]
        },
        {
         "legendgroup": "process",
         "marker": {
          "color": "#A64B21"
         },
         "mode": "lines+markers",
         "name": "process",
         "showlegend": false,
         "text": "<I><br>und sah dann, den Ellbogen auf den Schreibtisch gestützt, aus<br>dem Fenster auf den Fluß, die Brücke und die Anhöhen<br>am anderen Ufer mit ihrem schwachen Grün<br></I>",
         "type": "scatter",
         "x": [
          488,
          643
         ],
         "y": [
          "ac_1",
          "ac_1"
         ]
        },
        {
         "legendgroup": "stative_event",
         "marker": {
          "color": "#093658"
         },
         "mode": "lines+markers",
         "name": "stative_event",
         "showlegend": false,
         "text": "<I><br>Es war an einem Sonntagvormittag im schönsten Frühjahr.<br></I>",
         "type": "scatter",
         "x": [
          67,
          122
         ],
         "y": [
          "ac_2",
          "ac_2"
         ]
        },
        {
         "legendgroup": "stative_event",
         "marker": {
          "color": "#093658"
         },
         "mode": "lines+markers",
         "name": "stative_event",
         "showlegend": false,
         "text": "<I><br>Georg Bendemann, ein junger Kaufmann, saß in seinem Privatzimmer im<br>ersten Stock eines der niedrigen, leichtgebauten Häuser, die entlang des<br>Flusses in einer langen Reihe, fast nur in der Höhe<br>und Färbung unterschieden, sich hinzogen<br></I>",
         "type": "scatter",
         "x": [
          123,
          356
         ],
         "y": [
          "ac_2",
          "ac_2"
         ]
        },
        {
         "legendgroup": "stative_event",
         "marker": {
          "color": "#093658"
         },
         "mode": "lines+markers",
         "name": "stative_event",
         "showlegend": false,
         "text": "<I><br>Er hatte gerade einen Brief an einen sich im Ausland<br>befindenden Jugendfreund beendet<br></I>",
         "type": "scatter",
         "x": [
          358,
          443
         ],
         "y": [
          "ac_2",
          "ac_2"
         ]
        },
        {
         "legendgroup": "process",
         "marker": {
          "color": "#A64B21"
         },
         "mode": "lines+markers",
         "name": "process",
         "showlegend": false,
         "text": "<I><br>verschloß ihn in spielerischer Langsamkeit<br></I>",
         "type": "scatter",
         "x": [
          445,
          487
         ],
         "y": [
          "ac_2",
          "ac_2"
         ]
        },
        {
         "legendgroup": "process",
         "marker": {
          "color": "#A64B21"
         },
         "mode": "lines+markers",
         "name": "process",
         "showlegend": false,
         "text": "<I><br>und sah dann aus dem Fenster auf den Fluß, die<br>Brücke und die Anhöhen am anderen Ufer mit ihrem schwachen<br>Grün<br></I>",
         "type": "scatter",
         "x": [
          488,
          643
         ],
         "y": [
          "ac_2",
          "ac_2"
         ]
        },
        {
         "legendgroup": "stative_event",
         "marker": {
          "color": "#093658"
         },
         "mode": "lines+markers",
         "name": "stative_event",
         "showlegend": false,
         "text": "<I><br>den Ellbogen auf den Schreibtisch gestützt<br></I>",
         "type": "scatter",
         "x": [
          502,
          544
         ],
         "y": [
          "ac_2",
          "ac_2"
         ]
        }
       ],
       "layout": {
        "height": 240,
        "legend": {
         "font": {
          "color": "#5A98A1",
          "size": 10
         },
         "orientation": "h",
         "x": 1,
         "xanchor": "right",
         "y": 1.02,
         "yanchor": "bottom"
        },
        "template": {
         "data": {
          "bar": [
           {
            "error_x": {
             "color": "#2a3f5f"
            },
            "error_y": {
             "color": "#2a3f5f"
            },
            "marker": {
             "line": {
              "color": "white",
              "width": 0.5
             },
             "pattern": {
              "fillmode": "overlay",
              "size": 10,
              "solidity": 0.2
             }
            },
            "type": "bar"
           }
          ],
          "barpolar": [
           {
            "marker": {
             "line": {
              "color": "white",
              "width": 0.5
             },
             "pattern": {
              "fillmode": "overlay",
              "size": 10,
              "solidity": 0.2
             }
            },
            "type": "barpolar"
           }
          ],
          "carpet": [
           {
            "aaxis": {
             "endlinecolor": "#2a3f5f",
             "gridcolor": "#C8D4E3",
             "linecolor": "#C8D4E3",
             "minorgridcolor": "#C8D4E3",
             "startlinecolor": "#2a3f5f"
            },
            "baxis": {
             "endlinecolor": "#2a3f5f",
             "gridcolor": "#C8D4E3",
             "linecolor": "#C8D4E3",
             "minorgridcolor": "#C8D4E3",
             "startlinecolor": "#2a3f5f"
            },
            "type": "carpet"
           }
          ],
          "choropleth": [
           {
            "colorbar": {
             "outlinewidth": 0,
             "ticks": ""
            },
            "type": "choropleth"
           }
          ],
          "contour": [
           {
            "colorbar": {
             "outlinewidth": 0,
             "ticks": ""
            },
            "colorscale": [
             [
              0,
              "#0d0887"
             ],
             [
              0.1111111111111111,
              "#46039f"
             ],
             [
              0.2222222222222222,
              "#7201a8"
             ],
             [
              0.3333333333333333,
              "#9c179e"
             ],
             [
              0.4444444444444444,
              "#bd3786"
             ],
             [
              0.5555555555555556,
              "#d8576b"
             ],
             [
              0.6666666666666666,
              "#ed7953"
             ],
             [
              0.7777777777777778,
              "#fb9f3a"
             ],
             [
              0.8888888888888888,
              "#fdca26"
             ],
             [
              1,
              "#f0f921"
             ]
            ],
            "type": "contour"
           }
          ],
          "contourcarpet": [
           {
            "colorbar": {
             "outlinewidth": 0,
             "ticks": ""
            },
            "type": "contourcarpet"
           }
          ],
          "heatmap": [
           {
            "colorbar": {
             "outlinewidth": 0,
             "ticks": ""
            },
            "colorscale": [
             [
              0,
              "#0d0887"
             ],
             [
              0.1111111111111111,
              "#46039f"
             ],
             [
              0.2222222222222222,
              "#7201a8"
             ],
             [
              0.3333333333333333,
              "#9c179e"
             ],
             [
              0.4444444444444444,
              "#bd3786"
             ],
             [
              0.5555555555555556,
              "#d8576b"
             ],
             [
              0.6666666666666666,
              "#ed7953"
             ],
             [
              0.7777777777777778,
              "#fb9f3a"
             ],
             [
              0.8888888888888888,
              "#fdca26"
             ],
             [
              1,
              "#f0f921"
             ]
            ],
            "type": "heatmap"
           }
          ],
          "heatmapgl": [
           {
            "colorbar": {
             "outlinewidth": 0,
             "ticks": ""
            },
            "colorscale": [
             [
              0,
              "#0d0887"
             ],
             [
              0.1111111111111111,
              "#46039f"
             ],
             [
              0.2222222222222222,
              "#7201a8"
             ],
             [
              0.3333333333333333,
              "#9c179e"
             ],
             [
              0.4444444444444444,
              "#bd3786"
             ],
             [
              0.5555555555555556,
              "#d8576b"
             ],
             [
              0.6666666666666666,
              "#ed7953"
             ],
             [
              0.7777777777777778,
              "#fb9f3a"
             ],
             [
              0.8888888888888888,
              "#fdca26"
             ],
             [
              1,
              "#f0f921"
             ]
            ],
            "type": "heatmapgl"
           }
          ],
          "histogram": [
           {
            "marker": {
             "pattern": {
              "fillmode": "overlay",
              "size": 10,
              "solidity": 0.2
             }
            },
            "type": "histogram"
           }
          ],
          "histogram2d": [
           {
            "colorbar": {
             "outlinewidth": 0,
             "ticks": ""
            },
            "colorscale": [
             [
              0,
              "#0d0887"
             ],
             [
              0.1111111111111111,
              "#46039f"
             ],
             [
              0.2222222222222222,
              "#7201a8"
             ],
             [
              0.3333333333333333,
              "#9c179e"
             ],
             [
              0.4444444444444444,
              "#bd3786"
             ],
             [
              0.5555555555555556,
              "#d8576b"
             ],
             [
              0.6666666666666666,
              "#ed7953"
             ],
             [
              0.7777777777777778,
              "#fb9f3a"
             ],
             [
              0.8888888888888888,
              "#fdca26"
             ],
             [
              1,
              "#f0f921"
             ]
            ],
            "type": "histogram2d"
           }
          ],
          "histogram2dcontour": [
           {
            "colorbar": {
             "outlinewidth": 0,
             "ticks": ""
            },
            "colorscale": [
             [
              0,
              "#0d0887"
             ],
             [
              0.1111111111111111,
              "#46039f"
             ],
             [
              0.2222222222222222,
              "#7201a8"
             ],
             [
              0.3333333333333333,
              "#9c179e"
             ],
             [
              0.4444444444444444,
              "#bd3786"
             ],
             [
              0.5555555555555556,
              "#d8576b"
             ],
             [
              0.6666666666666666,
              "#ed7953"
             ],
             [
              0.7777777777777778,
              "#fb9f3a"
             ],
             [
              0.8888888888888888,
              "#fdca26"
             ],
             [
              1,
              "#f0f921"
             ]
            ],
            "type": "histogram2dcontour"
           }
          ],
          "mesh3d": [
           {
            "colorbar": {
             "outlinewidth": 0,
             "ticks": ""
            },
            "type": "mesh3d"
           }
          ],
          "parcoords": [
           {
            "line": {
             "colorbar": {
              "outlinewidth": 0,
              "ticks": ""
             }
            },
            "type": "parcoords"
           }
          ],
          "pie": [
           {
            "automargin": true,
            "type": "pie"
           }
          ],
          "scatter": [
           {
            "marker": {
             "colorbar": {
              "outlinewidth": 0,
              "ticks": ""
             }
            },
            "type": "scatter"
           }
          ],
          "scatter3d": [
           {
            "line": {
             "colorbar": {
              "outlinewidth": 0,
              "ticks": ""
             }
            },
            "marker": {
             "colorbar": {
              "outlinewidth": 0,
              "ticks": ""
             }
            },
            "type": "scatter3d"
           }
          ],
          "scattercarpet": [
           {
            "marker": {
             "colorbar": {
              "outlinewidth": 0,
              "ticks": ""
             }
            },
            "type": "scattercarpet"
           }
          ],
          "scattergeo": [
           {
            "marker": {
             "colorbar": {
              "outlinewidth": 0,
              "ticks": ""
             }
            },
            "type": "scattergeo"
           }
          ],
          "scattergl": [
           {
            "marker": {
             "colorbar": {
              "outlinewidth": 0,
              "ticks": ""
             }
            },
            "type": "scattergl"
           }
          ],
          "scattermapbox": [
           {
            "marker": {
             "colorbar": {
              "outlinewidth": 0,
              "ticks": ""
             }
            },
            "type": "scattermapbox"
           }
          ],
          "scatterpolar": [
           {
            "marker": {
             "colorbar": {
              "outlinewidth": 0,
              "ticks": ""
             }
            },
            "type": "scatterpolar"
           }
          ],
          "scatterpolargl": [
           {
            "marker": {
             "colorbar": {
              "outlinewidth": 0,
              "ticks": ""
             }
            },
            "type": "scatterpolargl"
           }
          ],
          "scatterternary": [
           {
            "marker": {
             "colorbar": {
              "outlinewidth": 0,
              "ticks": ""
             }
            },
            "type": "scatterternary"
           }
          ],
          "surface": [
           {
            "colorbar": {
             "outlinewidth": 0,
             "ticks": ""
            },
            "colorscale": [
             [
              0,
              "#0d0887"
             ],
             [
              0.1111111111111111,
              "#46039f"
             ],
             [
              0.2222222222222222,
              "#7201a8"
             ],
             [
              0.3333333333333333,
              "#9c179e"
             ],
             [
              0.4444444444444444,
              "#bd3786"
             ],
             [
              0.5555555555555556,
              "#d8576b"
             ],
             [
              0.6666666666666666,
              "#ed7953"
             ],
             [
              0.7777777777777778,
              "#fb9f3a"
             ],
             [
              0.8888888888888888,
              "#fdca26"
             ],
             [
              1,
              "#f0f921"
             ]
            ],
            "type": "surface"
           }
          ],
          "table": [
           {
            "cells": {
             "fill": {
              "color": "#EBF0F8"
             },
             "line": {
              "color": "white"
             }
            },
            "header": {
             "fill": {
              "color": "#C8D4E3"
             },
             "line": {
              "color": "white"
             }
            },
            "type": "table"
           }
          ]
         },
         "layout": {
          "annotationdefaults": {
           "arrowcolor": "#2a3f5f",
           "arrowhead": 0,
           "arrowwidth": 1
          },
          "autotypenumbers": "strict",
          "coloraxis": {
           "colorbar": {
            "outlinewidth": 0,
            "ticks": ""
           }
          },
          "colorscale": {
           "diverging": [
            [
             0,
             "#8e0152"
            ],
            [
             0.1,
             "#c51b7d"
            ],
            [
             0.2,
             "#de77ae"
            ],
            [
             0.3,
             "#f1b6da"
            ],
            [
             0.4,
             "#fde0ef"
            ],
            [
             0.5,
             "#f7f7f7"
            ],
            [
             0.6,
             "#e6f5d0"
            ],
            [
             0.7,
             "#b8e186"
            ],
            [
             0.8,
             "#7fbc41"
            ],
            [
             0.9,
             "#4d9221"
            ],
            [
             1,
             "#276419"
            ]
           ],
           "sequential": [
            [
             0,
             "#0d0887"
            ],
            [
             0.1111111111111111,
             "#46039f"
            ],
            [
             0.2222222222222222,
             "#7201a8"
            ],
            [
             0.3333333333333333,
             "#9c179e"
            ],
            [
             0.4444444444444444,
             "#bd3786"
            ],
            [
             0.5555555555555556,
             "#d8576b"
            ],
            [
             0.6666666666666666,
             "#ed7953"
            ],
            [
             0.7777777777777778,
             "#fb9f3a"
            ],
            [
             0.8888888888888888,
             "#fdca26"
            ],
            [
             1,
             "#f0f921"
            ]
           ],
           "sequentialminus": [
            [
             0,
             "#0d0887"
            ],
            [
             0.1111111111111111,
             "#46039f"
            ],
            [
             0.2222222222222222,
             "#7201a8"
            ],
            [
             0.3333333333333333,
             "#9c179e"
            ],
            [
             0.4444444444444444,
             "#bd3786"
            ],
            [
             0.5555555555555556,
             "#d8576b"
            ],
            [
             0.6666666666666666,
             "#ed7953"
            ],
            [
             0.7777777777777778,
             "#fb9f3a"
            ],
            [
             0.8888888888888888,
             "#fdca26"
            ],
            [
             1,
             "#f0f921"
            ]
           ]
          },
          "colorway": [
           "#636efa",
           "#EF553B",
           "#00cc96",
           "#ab63fa",
           "#FFA15A",
           "#19d3f3",
           "#FF6692",
           "#B6E880",
           "#FF97FF",
           "#FECB52"
          ],
          "font": {
           "color": "#2a3f5f"
          },
          "geo": {
           "bgcolor": "white",
           "lakecolor": "white",
           "landcolor": "white",
           "showlakes": true,
           "showland": true,
           "subunitcolor": "#C8D4E3"
          },
          "hoverlabel": {
           "align": "left"
          },
          "hovermode": "closest",
          "mapbox": {
           "style": "light"
          },
          "paper_bgcolor": "white",
          "plot_bgcolor": "white",
          "polar": {
           "angularaxis": {
            "gridcolor": "#EBF0F8",
            "linecolor": "#EBF0F8",
            "ticks": ""
           },
           "bgcolor": "white",
           "radialaxis": {
            "gridcolor": "#EBF0F8",
            "linecolor": "#EBF0F8",
            "ticks": ""
           }
          },
          "scene": {
           "xaxis": {
            "backgroundcolor": "white",
            "gridcolor": "#DFE8F3",
            "gridwidth": 2,
            "linecolor": "#EBF0F8",
            "showbackground": true,
            "ticks": "",
            "zerolinecolor": "#EBF0F8"
           },
           "yaxis": {
            "backgroundcolor": "white",
            "gridcolor": "#DFE8F3",
            "gridwidth": 2,
            "linecolor": "#EBF0F8",
            "showbackground": true,
            "ticks": "",
            "zerolinecolor": "#EBF0F8"
           },
           "zaxis": {
            "backgroundcolor": "white",
            "gridcolor": "#DFE8F3",
            "gridwidth": 2,
            "linecolor": "#EBF0F8",
            "showbackground": true,
            "ticks": "",
            "zerolinecolor": "#EBF0F8"
           }
          },
          "shapedefaults": {
           "line": {
            "color": "#2a3f5f"
           }
          },
          "ternary": {
           "aaxis": {
            "gridcolor": "#DFE8F3",
            "linecolor": "#A2B1C6",
            "ticks": ""
           },
           "baxis": {
            "gridcolor": "#DFE8F3",
            "linecolor": "#A2B1C6",
            "ticks": ""
           },
           "bgcolor": "white",
           "caxis": {
            "gridcolor": "#DFE8F3",
            "linecolor": "#A2B1C6",
            "ticks": ""
           }
          },
          "title": {
           "x": 0.05
          },
          "xaxis": {
           "automargin": true,
           "gridcolor": "#EBF0F8",
           "linecolor": "#EBF0F8",
           "ticks": "",
           "title": {
            "standoff": 15
           },
           "zerolinecolor": "#EBF0F8",
           "zerolinewidth": 2
          },
          "yaxis": {
           "automargin": true,
           "gridcolor": "#EBF0F8",
           "linecolor": "#EBF0F8",
           "ticks": "",
           "title": {
            "standoff": 15
           },
           "zerolinecolor": "#EBF0F8",
           "zerolinewidth": 2
          }
         }
        },
        "title": {
         "text": "Annotation Comparison by Text Span"
        }
       }
      }
     },
     "metadata": {},
     "output_type": "display_data"
    }
   ],
   "source": [
    "# compare the annotation collections by start point\n",
    "my_project.compare_annotation_collections(\n",
    "    annotation_collections=['ac_1', 'ac_2']\n",
    ")"
   ]
  },
  {
   "cell_type": "markdown",
   "metadata": {},
   "source": [
    "As the line plot shows, every annotation in annotations collection 'ac_1' has a matching annotation in annotations collection 'ac_2'.\n",
    "\n",
    "Now, let's compute the IAA for all matching annotations:"
   ]
  },
  {
   "cell_type": "code",
   "execution_count": 3,
   "metadata": {},
   "outputs": [
    {
     "name": "stdout",
     "output_type": "stream",
     "text": [
      "\n",
      "Finished search for overlapping annotations.\n",
      "Could match 6 annotations.\n",
      "Average overlap is 83.19 %.\n",
      "Couldn't match 0 annotation(s) in first annotation collection.\n",
      "\n",
      "\n",
      "\n",
      "Scott's pi: 0.6571428571428573\n",
      "Cohen's Kappa: 0.6666666666666667\n",
      "Krippendorf Alpha: 0.6857142857142857\n",
      "-------------------\n",
      "-------------------\n",
      "Confusion Martrix:\n",
      "\n"
     ]
    },
    {
     "data": {
      "text/html": [
       "<div>\n",
       "<style scoped>\n",
       "    .dataframe tbody tr th:only-of-type {\n",
       "        vertical-align: middle;\n",
       "    }\n",
       "\n",
       "    .dataframe tbody tr th {\n",
       "        vertical-align: top;\n",
       "    }\n",
       "\n",
       "    .dataframe thead th {\n",
       "        text-align: right;\n",
       "    }\n",
       "</style>\n",
       "<table border=\"1\" class=\"dataframe\">\n",
       "  <thead>\n",
       "    <tr style=\"text-align: right;\">\n",
       "      <th></th>\n",
       "      <th>process</th>\n",
       "      <th>stative_event</th>\n",
       "    </tr>\n",
       "  </thead>\n",
       "  <tbody>\n",
       "    <tr>\n",
       "      <th>process</th>\n",
       "      <td>2</td>\n",
       "      <td>0</td>\n",
       "    </tr>\n",
       "    <tr>\n",
       "      <th>stative_event</th>\n",
       "      <td>1</td>\n",
       "      <td>3</td>\n",
       "    </tr>\n",
       "  </tbody>\n",
       "</table>\n",
       "</div>"
      ],
      "text/plain": [
       "               process  stative_event\n",
       "process              2              0\n",
       "stative_event        1              3"
      ]
     },
     "execution_count": 3,
     "metadata": {},
     "output_type": "execute_result"
    }
   ],
   "source": [
    "my_project.get_iaa(\n",
    "    ac1_name='ac_1',\n",
    "    ac2_name='ac_2'\n",
    ")"
   ]
  },
  {
   "cell_type": "markdown",
   "metadata": {},
   "source": [
    "The `get_iaa` method not only returns 3 different agreement scores\n",
    "but reports also the number of annotation pairs considered when computing the IAA scores\n",
    "and the average overlap of the annotation pairs.\n",
    "Additionally, the method returns a confusion matrix to give an inside into the relation between the tags.\n",
    "As you can see in the matrix, in 3 cases a annotation with the tag 'stative_event' in annotation collection 1\n",
    "has a best match in annotation collection 2 with the same tag.\n",
    "This are the first 3 annotations in annotation collection 1, as the line plot above shows.\n",
    "\n",
    "### Filter by Tags\n",
    "\n",
    "There may occur cases in which you don't want to include all annotations in the computing of\n",
    "the IAA scores.\n",
    "If those cases just use the `tag_filter` parameter, which takes any list of tag names as argument."
   ]
  },
  {
   "cell_type": "code",
   "execution_count": 4,
   "metadata": {},
   "outputs": [
    {
     "name": "stdout",
     "output_type": "stream",
     "text": [
      "\n",
      "Finished search for overlapping annotations.\n",
      "Could match 3 annotations.\n",
      "Average overlap is 100.0 %.\n",
      "Couldn't match 0 annotation(s) in first annotation collection.\n",
      "\n",
      "\n",
      "\n",
      "Scott's pi: -0.20000000000000007\n",
      "Cohen's Kappa: 0.0\n",
      "Krippendorf Alpha: 0.0\n",
      "-------------------\n",
      "-------------------\n",
      "Confusion Martrix:\n",
      "\n"
     ]
    },
    {
     "data": {
      "text/html": [
       "<div>\n",
       "<style scoped>\n",
       "    .dataframe tbody tr th:only-of-type {\n",
       "        vertical-align: middle;\n",
       "    }\n",
       "\n",
       "    .dataframe tbody tr th {\n",
       "        vertical-align: top;\n",
       "    }\n",
       "\n",
       "    .dataframe thead th {\n",
       "        text-align: right;\n",
       "    }\n",
       "</style>\n",
       "<table border=\"1\" class=\"dataframe\">\n",
       "  <thead>\n",
       "    <tr style=\"text-align: right;\">\n",
       "      <th></th>\n",
       "      <th>process</th>\n",
       "      <th>stative_event</th>\n",
       "    </tr>\n",
       "  </thead>\n",
       "  <tbody>\n",
       "    <tr>\n",
       "      <th>process</th>\n",
       "      <td>2</td>\n",
       "      <td>0</td>\n",
       "    </tr>\n",
       "    <tr>\n",
       "      <th>stative_event</th>\n",
       "      <td>1</td>\n",
       "      <td>0</td>\n",
       "    </tr>\n",
       "  </tbody>\n",
       "</table>\n",
       "</div>"
      ],
      "text/plain": [
       "               process  stative_event\n",
       "process              2              0\n",
       "stative_event        1              0"
      ]
     },
     "execution_count": 4,
     "metadata": {},
     "output_type": "execute_result"
    }
   ],
   "source": [
    "my_project.get_iaa(\n",
    "    ac1_name='ac_1',\n",
    "    ac2_name='ac_2',\n",
    "    tag_filter=['process']\n",
    ")"
   ]
  },
  {
   "cell_type": "markdown",
   "metadata": {},
   "source": [
    "As the confusion matrix shows, only the annototations from annotation collection 1\n",
    "with the tag 'process' have been taken into account.\n",
    "From annotation collection 2 there still is one annotation considered with the tag 'stative_event'.\n",
    "But we can filter both annotation collection, too: "
   ]
  },
  {
   "cell_type": "code",
   "execution_count": 5,
   "metadata": {},
   "outputs": [
    {
     "name": "stdout",
     "output_type": "stream",
     "text": [
      "\n",
      "Finished search for overlapping annotations.\n",
      "Could match 3 annotations.\n",
      "Average overlap is 100.0 %.\n",
      "Couldn't match 1 annotation(s) in first annotation collection.\n",
      "\n",
      "\n",
      "\n",
      "Scott's pi: -0.20000000000000007\n",
      "Cohen's Kappa: 0.0\n",
      "Krippendorf Alpha: 0.0\n",
      "-------------------\n",
      "-------------------\n",
      "Confusion Martrix:\n",
      "\n"
     ]
    },
    {
     "data": {
      "text/html": [
       "<div>\n",
       "<style scoped>\n",
       "    .dataframe tbody tr th:only-of-type {\n",
       "        vertical-align: middle;\n",
       "    }\n",
       "\n",
       "    .dataframe tbody tr th {\n",
       "        vertical-align: top;\n",
       "    }\n",
       "\n",
       "    .dataframe thead th {\n",
       "        text-align: right;\n",
       "    }\n",
       "</style>\n",
       "<table border=\"1\" class=\"dataframe\">\n",
       "  <thead>\n",
       "    <tr style=\"text-align: right;\">\n",
       "      <th></th>\n",
       "      <th>process</th>\n",
       "      <th>#None#</th>\n",
       "    </tr>\n",
       "  </thead>\n",
       "  <tbody>\n",
       "    <tr>\n",
       "      <th>process</th>\n",
       "      <td>2</td>\n",
       "      <td>0</td>\n",
       "    </tr>\n",
       "    <tr>\n",
       "      <th>#None#</th>\n",
       "      <td>1</td>\n",
       "      <td>0</td>\n",
       "    </tr>\n",
       "  </tbody>\n",
       "</table>\n",
       "</div>"
      ],
      "text/plain": [
       "         process  #None#\n",
       "process        2       0\n",
       "#None#         1       0"
      ]
     },
     "execution_count": 5,
     "metadata": {},
     "output_type": "execute_result"
    }
   ],
   "source": [
    "my_project.get_iaa(\n",
    "    ac1_name='ac_1',\n",
    "    ac2_name='ac_2',\n",
    "    tag_filter=['process'],\n",
    "    filter_both_ac=True\n",
    ")"
   ]
  },
  {
   "cell_type": "markdown",
   "metadata": {},
   "source": [
    "Because we only use to tags in the demo project this leads to the same IAA results.\n",
    "\n",
    "### Compare Property Annotations\n",
    "\n",
    "Its tag is only one level of CATMA annotations.\n",
    "If you want to compare annotations by ther properties this is possible too.\n",
    "In the demo project the annotations have the property 'mental' to evaluate if a mental\n",
    "event is referenced in the text:"
   ]
  },
  {
   "cell_type": "code",
   "execution_count": 6,
   "metadata": {},
   "outputs": [
    {
     "data": {
      "application/vnd.plotly.v1+json": {
       "config": {
        "plotlyServerURL": "https://plot.ly"
       },
       "data": [
        {
         "legendgroup": "no",
         "marker": {
          "color": "#093658"
         },
         "mode": "lines+markers",
         "name": "no",
         "showlegend": true,
         "text": "<I><br>Es war an einem Sonntagvormittag im schönsten Frühjahr.<br></I>",
         "type": "scatter",
         "x": [
          67,
          122
         ],
         "y": [
          "ac_1",
          "ac_1"
         ]
        },
        {
         "legendgroup": "no",
         "marker": {
          "color": "#093658"
         },
         "mode": "lines+markers",
         "name": "no",
         "showlegend": false,
         "text": "<I><br>Georg Bendemann, ein junger Kaufmann, saß in seinem Privatzimmer im<br>ersten Stock eines der niedrigen, leichtgebauten Häuser<br></I>",
         "type": "scatter",
         "x": [
          123,
          246
         ],
         "y": [
          "ac_1",
          "ac_1"
         ]
        },
        {
         "legendgroup": "no",
         "marker": {
          "color": "#093658"
         },
         "mode": "lines+markers",
         "name": "no",
         "showlegend": false,
         "text": "<I><br>die entlang des Flusses in einer langen Reihe, fast nur<br>in der Höhe und Färbung unterschieden, sich hinzogen<br></I>",
         "type": "scatter",
         "x": [
          248,
          356
         ],
         "y": [
          "ac_1",
          "ac_1"
         ]
        },
        {
         "legendgroup": "no",
         "marker": {
          "color": "#093658"
         },
         "mode": "lines+markers",
         "name": "no",
         "showlegend": false,
         "text": "<I><br>Er hatte gerade einen Brief an einen sich im Ausland<br>befindenden Jugendfreund beendet<br></I>",
         "type": "scatter",
         "x": [
          358,
          443
         ],
         "y": [
          "ac_1",
          "ac_1"
         ]
        },
        {
         "legendgroup": "no",
         "marker": {
          "color": "#093658"
         },
         "mode": "lines+markers",
         "name": "no",
         "showlegend": false,
         "text": "<I><br>verschloß ihn in spielerischer Langsamkeit<br></I>",
         "type": "scatter",
         "x": [
          445,
          487
         ],
         "y": [
          "ac_1",
          "ac_1"
         ]
        },
        {
         "legendgroup": "yes",
         "marker": {
          "color": "#A64B21"
         },
         "mode": "lines+markers",
         "name": "yes",
         "showlegend": true,
         "text": "<I><br>und sah dann, den Ellbogen auf den Schreibtisch gestützt, aus<br>dem Fenster auf den Fluß, die Brücke und die Anhöhen<br>am anderen Ufer mit ihrem schwachen Grün<br></I>",
         "type": "scatter",
         "x": [
          488,
          643
         ],
         "y": [
          "ac_1",
          "ac_1"
         ]
        },
        {
         "legendgroup": "no",
         "marker": {
          "color": "#093658"
         },
         "mode": "lines+markers",
         "name": "no",
         "showlegend": false,
         "text": "<I><br>Es war an einem Sonntagvormittag im schönsten Frühjahr.<br></I>",
         "type": "scatter",
         "x": [
          67,
          122
         ],
         "y": [
          "ac_2",
          "ac_2"
         ]
        },
        {
         "legendgroup": "no",
         "marker": {
          "color": "#093658"
         },
         "mode": "lines+markers",
         "name": "no",
         "showlegend": false,
         "text": "<I><br>Georg Bendemann, ein junger Kaufmann, saß in seinem Privatzimmer im<br>ersten Stock eines der niedrigen, leichtgebauten Häuser, die entlang des<br>Flusses in einer langen Reihe, fast nur in der Höhe<br>und Färbung unterschieden, sich hinzogen<br></I>",
         "type": "scatter",
         "x": [
          123,
          356
         ],
         "y": [
          "ac_2",
          "ac_2"
         ]
        },
        {
         "legendgroup": "no",
         "marker": {
          "color": "#093658"
         },
         "mode": "lines+markers",
         "name": "no",
         "showlegend": false,
         "text": "<I><br>Er hatte gerade einen Brief an einen sich im Ausland<br>befindenden Jugendfreund beendet<br></I>",
         "type": "scatter",
         "x": [
          358,
          443
         ],
         "y": [
          "ac_2",
          "ac_2"
         ]
        },
        {
         "legendgroup": "no",
         "marker": {
          "color": "#093658"
         },
         "mode": "lines+markers",
         "name": "no",
         "showlegend": false,
         "text": "<I><br>verschloß ihn in spielerischer Langsamkeit<br></I>",
         "type": "scatter",
         "x": [
          445,
          487
         ],
         "y": [
          "ac_2",
          "ac_2"
         ]
        },
        {
         "legendgroup": "yes",
         "marker": {
          "color": "#A64B21"
         },
         "mode": "lines+markers",
         "name": "yes",
         "showlegend": false,
         "text": "<I><br>und sah dann aus dem Fenster auf den Fluß, die<br>Brücke und die Anhöhen am anderen Ufer mit ihrem schwachen<br>Grün<br></I>",
         "type": "scatter",
         "x": [
          488,
          643
         ],
         "y": [
          "ac_2",
          "ac_2"
         ]
        },
        {
         "legendgroup": "no",
         "marker": {
          "color": "#093658"
         },
         "mode": "lines+markers",
         "name": "no",
         "showlegend": false,
         "text": "<I><br>den Ellbogen auf den Schreibtisch gestützt<br></I>",
         "type": "scatter",
         "x": [
          502,
          544
         ],
         "y": [
          "ac_2",
          "ac_2"
         ]
        }
       ],
       "layout": {
        "height": 240,
        "legend": {
         "font": {
          "color": "#5A98A1",
          "size": 10
         },
         "orientation": "h",
         "x": 1,
         "xanchor": "right",
         "y": 1.02,
         "yanchor": "bottom"
        },
        "template": {
         "data": {
          "bar": [
           {
            "error_x": {
             "color": "#2a3f5f"
            },
            "error_y": {
             "color": "#2a3f5f"
            },
            "marker": {
             "line": {
              "color": "white",
              "width": 0.5
             },
             "pattern": {
              "fillmode": "overlay",
              "size": 10,
              "solidity": 0.2
             }
            },
            "type": "bar"
           }
          ],
          "barpolar": [
           {
            "marker": {
             "line": {
              "color": "white",
              "width": 0.5
             },
             "pattern": {
              "fillmode": "overlay",
              "size": 10,
              "solidity": 0.2
             }
            },
            "type": "barpolar"
           }
          ],
          "carpet": [
           {
            "aaxis": {
             "endlinecolor": "#2a3f5f",
             "gridcolor": "#C8D4E3",
             "linecolor": "#C8D4E3",
             "minorgridcolor": "#C8D4E3",
             "startlinecolor": "#2a3f5f"
            },
            "baxis": {
             "endlinecolor": "#2a3f5f",
             "gridcolor": "#C8D4E3",
             "linecolor": "#C8D4E3",
             "minorgridcolor": "#C8D4E3",
             "startlinecolor": "#2a3f5f"
            },
            "type": "carpet"
           }
          ],
          "choropleth": [
           {
            "colorbar": {
             "outlinewidth": 0,
             "ticks": ""
            },
            "type": "choropleth"
           }
          ],
          "contour": [
           {
            "colorbar": {
             "outlinewidth": 0,
             "ticks": ""
            },
            "colorscale": [
             [
              0,
              "#0d0887"
             ],
             [
              0.1111111111111111,
              "#46039f"
             ],
             [
              0.2222222222222222,
              "#7201a8"
             ],
             [
              0.3333333333333333,
              "#9c179e"
             ],
             [
              0.4444444444444444,
              "#bd3786"
             ],
             [
              0.5555555555555556,
              "#d8576b"
             ],
             [
              0.6666666666666666,
              "#ed7953"
             ],
             [
              0.7777777777777778,
              "#fb9f3a"
             ],
             [
              0.8888888888888888,
              "#fdca26"
             ],
             [
              1,
              "#f0f921"
             ]
            ],
            "type": "contour"
           }
          ],
          "contourcarpet": [
           {
            "colorbar": {
             "outlinewidth": 0,
             "ticks": ""
            },
            "type": "contourcarpet"
           }
          ],
          "heatmap": [
           {
            "colorbar": {
             "outlinewidth": 0,
             "ticks": ""
            },
            "colorscale": [
             [
              0,
              "#0d0887"
             ],
             [
              0.1111111111111111,
              "#46039f"
             ],
             [
              0.2222222222222222,
              "#7201a8"
             ],
             [
              0.3333333333333333,
              "#9c179e"
             ],
             [
              0.4444444444444444,
              "#bd3786"
             ],
             [
              0.5555555555555556,
              "#d8576b"
             ],
             [
              0.6666666666666666,
              "#ed7953"
             ],
             [
              0.7777777777777778,
              "#fb9f3a"
             ],
             [
              0.8888888888888888,
              "#fdca26"
             ],
             [
              1,
              "#f0f921"
             ]
            ],
            "type": "heatmap"
           }
          ],
          "heatmapgl": [
           {
            "colorbar": {
             "outlinewidth": 0,
             "ticks": ""
            },
            "colorscale": [
             [
              0,
              "#0d0887"
             ],
             [
              0.1111111111111111,
              "#46039f"
             ],
             [
              0.2222222222222222,
              "#7201a8"
             ],
             [
              0.3333333333333333,
              "#9c179e"
             ],
             [
              0.4444444444444444,
              "#bd3786"
             ],
             [
              0.5555555555555556,
              "#d8576b"
             ],
             [
              0.6666666666666666,
              "#ed7953"
             ],
             [
              0.7777777777777778,
              "#fb9f3a"
             ],
             [
              0.8888888888888888,
              "#fdca26"
             ],
             [
              1,
              "#f0f921"
             ]
            ],
            "type": "heatmapgl"
           }
          ],
          "histogram": [
           {
            "marker": {
             "pattern": {
              "fillmode": "overlay",
              "size": 10,
              "solidity": 0.2
             }
            },
            "type": "histogram"
           }
          ],
          "histogram2d": [
           {
            "colorbar": {
             "outlinewidth": 0,
             "ticks": ""
            },
            "colorscale": [
             [
              0,
              "#0d0887"
             ],
             [
              0.1111111111111111,
              "#46039f"
             ],
             [
              0.2222222222222222,
              "#7201a8"
             ],
             [
              0.3333333333333333,
              "#9c179e"
             ],
             [
              0.4444444444444444,
              "#bd3786"
             ],
             [
              0.5555555555555556,
              "#d8576b"
             ],
             [
              0.6666666666666666,
              "#ed7953"
             ],
             [
              0.7777777777777778,
              "#fb9f3a"
             ],
             [
              0.8888888888888888,
              "#fdca26"
             ],
             [
              1,
              "#f0f921"
             ]
            ],
            "type": "histogram2d"
           }
          ],
          "histogram2dcontour": [
           {
            "colorbar": {
             "outlinewidth": 0,
             "ticks": ""
            },
            "colorscale": [
             [
              0,
              "#0d0887"
             ],
             [
              0.1111111111111111,
              "#46039f"
             ],
             [
              0.2222222222222222,
              "#7201a8"
             ],
             [
              0.3333333333333333,
              "#9c179e"
             ],
             [
              0.4444444444444444,
              "#bd3786"
             ],
             [
              0.5555555555555556,
              "#d8576b"
             ],
             [
              0.6666666666666666,
              "#ed7953"
             ],
             [
              0.7777777777777778,
              "#fb9f3a"
             ],
             [
              0.8888888888888888,
              "#fdca26"
             ],
             [
              1,
              "#f0f921"
             ]
            ],
            "type": "histogram2dcontour"
           }
          ],
          "mesh3d": [
           {
            "colorbar": {
             "outlinewidth": 0,
             "ticks": ""
            },
            "type": "mesh3d"
           }
          ],
          "parcoords": [
           {
            "line": {
             "colorbar": {
              "outlinewidth": 0,
              "ticks": ""
             }
            },
            "type": "parcoords"
           }
          ],
          "pie": [
           {
            "automargin": true,
            "type": "pie"
           }
          ],
          "scatter": [
           {
            "marker": {
             "colorbar": {
              "outlinewidth": 0,
              "ticks": ""
             }
            },
            "type": "scatter"
           }
          ],
          "scatter3d": [
           {
            "line": {
             "colorbar": {
              "outlinewidth": 0,
              "ticks": ""
             }
            },
            "marker": {
             "colorbar": {
              "outlinewidth": 0,
              "ticks": ""
             }
            },
            "type": "scatter3d"
           }
          ],
          "scattercarpet": [
           {
            "marker": {
             "colorbar": {
              "outlinewidth": 0,
              "ticks": ""
             }
            },
            "type": "scattercarpet"
           }
          ],
          "scattergeo": [
           {
            "marker": {
             "colorbar": {
              "outlinewidth": 0,
              "ticks": ""
             }
            },
            "type": "scattergeo"
           }
          ],
          "scattergl": [
           {
            "marker": {
             "colorbar": {
              "outlinewidth": 0,
              "ticks": ""
             }
            },
            "type": "scattergl"
           }
          ],
          "scattermapbox": [
           {
            "marker": {
             "colorbar": {
              "outlinewidth": 0,
              "ticks": ""
             }
            },
            "type": "scattermapbox"
           }
          ],
          "scatterpolar": [
           {
            "marker": {
             "colorbar": {
              "outlinewidth": 0,
              "ticks": ""
             }
            },
            "type": "scatterpolar"
           }
          ],
          "scatterpolargl": [
           {
            "marker": {
             "colorbar": {
              "outlinewidth": 0,
              "ticks": ""
             }
            },
            "type": "scatterpolargl"
           }
          ],
          "scatterternary": [
           {
            "marker": {
             "colorbar": {
              "outlinewidth": 0,
              "ticks": ""
             }
            },
            "type": "scatterternary"
           }
          ],
          "surface": [
           {
            "colorbar": {
             "outlinewidth": 0,
             "ticks": ""
            },
            "colorscale": [
             [
              0,
              "#0d0887"
             ],
             [
              0.1111111111111111,
              "#46039f"
             ],
             [
              0.2222222222222222,
              "#7201a8"
             ],
             [
              0.3333333333333333,
              "#9c179e"
             ],
             [
              0.4444444444444444,
              "#bd3786"
             ],
             [
              0.5555555555555556,
              "#d8576b"
             ],
             [
              0.6666666666666666,
              "#ed7953"
             ],
             [
              0.7777777777777778,
              "#fb9f3a"
             ],
             [
              0.8888888888888888,
              "#fdca26"
             ],
             [
              1,
              "#f0f921"
             ]
            ],
            "type": "surface"
           }
          ],
          "table": [
           {
            "cells": {
             "fill": {
              "color": "#EBF0F8"
             },
             "line": {
              "color": "white"
             }
            },
            "header": {
             "fill": {
              "color": "#C8D4E3"
             },
             "line": {
              "color": "white"
             }
            },
            "type": "table"
           }
          ]
         },
         "layout": {
          "annotationdefaults": {
           "arrowcolor": "#2a3f5f",
           "arrowhead": 0,
           "arrowwidth": 1
          },
          "autotypenumbers": "strict",
          "coloraxis": {
           "colorbar": {
            "outlinewidth": 0,
            "ticks": ""
           }
          },
          "colorscale": {
           "diverging": [
            [
             0,
             "#8e0152"
            ],
            [
             0.1,
             "#c51b7d"
            ],
            [
             0.2,
             "#de77ae"
            ],
            [
             0.3,
             "#f1b6da"
            ],
            [
             0.4,
             "#fde0ef"
            ],
            [
             0.5,
             "#f7f7f7"
            ],
            [
             0.6,
             "#e6f5d0"
            ],
            [
             0.7,
             "#b8e186"
            ],
            [
             0.8,
             "#7fbc41"
            ],
            [
             0.9,
             "#4d9221"
            ],
            [
             1,
             "#276419"
            ]
           ],
           "sequential": [
            [
             0,
             "#0d0887"
            ],
            [
             0.1111111111111111,
             "#46039f"
            ],
            [
             0.2222222222222222,
             "#7201a8"
            ],
            [
             0.3333333333333333,
             "#9c179e"
            ],
            [
             0.4444444444444444,
             "#bd3786"
            ],
            [
             0.5555555555555556,
             "#d8576b"
            ],
            [
             0.6666666666666666,
             "#ed7953"
            ],
            [
             0.7777777777777778,
             "#fb9f3a"
            ],
            [
             0.8888888888888888,
             "#fdca26"
            ],
            [
             1,
             "#f0f921"
            ]
           ],
           "sequentialminus": [
            [
             0,
             "#0d0887"
            ],
            [
             0.1111111111111111,
             "#46039f"
            ],
            [
             0.2222222222222222,
             "#7201a8"
            ],
            [
             0.3333333333333333,
             "#9c179e"
            ],
            [
             0.4444444444444444,
             "#bd3786"
            ],
            [
             0.5555555555555556,
             "#d8576b"
            ],
            [
             0.6666666666666666,
             "#ed7953"
            ],
            [
             0.7777777777777778,
             "#fb9f3a"
            ],
            [
             0.8888888888888888,
             "#fdca26"
            ],
            [
             1,
             "#f0f921"
            ]
           ]
          },
          "colorway": [
           "#636efa",
           "#EF553B",
           "#00cc96",
           "#ab63fa",
           "#FFA15A",
           "#19d3f3",
           "#FF6692",
           "#B6E880",
           "#FF97FF",
           "#FECB52"
          ],
          "font": {
           "color": "#2a3f5f"
          },
          "geo": {
           "bgcolor": "white",
           "lakecolor": "white",
           "landcolor": "white",
           "showlakes": true,
           "showland": true,
           "subunitcolor": "#C8D4E3"
          },
          "hoverlabel": {
           "align": "left"
          },
          "hovermode": "closest",
          "mapbox": {
           "style": "light"
          },
          "paper_bgcolor": "white",
          "plot_bgcolor": "white",
          "polar": {
           "angularaxis": {
            "gridcolor": "#EBF0F8",
            "linecolor": "#EBF0F8",
            "ticks": ""
           },
           "bgcolor": "white",
           "radialaxis": {
            "gridcolor": "#EBF0F8",
            "linecolor": "#EBF0F8",
            "ticks": ""
           }
          },
          "scene": {
           "xaxis": {
            "backgroundcolor": "white",
            "gridcolor": "#DFE8F3",
            "gridwidth": 2,
            "linecolor": "#EBF0F8",
            "showbackground": true,
            "ticks": "",
            "zerolinecolor": "#EBF0F8"
           },
           "yaxis": {
            "backgroundcolor": "white",
            "gridcolor": "#DFE8F3",
            "gridwidth": 2,
            "linecolor": "#EBF0F8",
            "showbackground": true,
            "ticks": "",
            "zerolinecolor": "#EBF0F8"
           },
           "zaxis": {
            "backgroundcolor": "white",
            "gridcolor": "#DFE8F3",
            "gridwidth": 2,
            "linecolor": "#EBF0F8",
            "showbackground": true,
            "ticks": "",
            "zerolinecolor": "#EBF0F8"
           }
          },
          "shapedefaults": {
           "line": {
            "color": "#2a3f5f"
           }
          },
          "ternary": {
           "aaxis": {
            "gridcolor": "#DFE8F3",
            "linecolor": "#A2B1C6",
            "ticks": ""
           },
           "baxis": {
            "gridcolor": "#DFE8F3",
            "linecolor": "#A2B1C6",
            "ticks": ""
           },
           "bgcolor": "white",
           "caxis": {
            "gridcolor": "#DFE8F3",
            "linecolor": "#A2B1C6",
            "ticks": ""
           }
          },
          "title": {
           "x": 0.05
          },
          "xaxis": {
           "automargin": true,
           "gridcolor": "#EBF0F8",
           "linecolor": "#EBF0F8",
           "ticks": "",
           "title": {
            "standoff": 15
           },
           "zerolinecolor": "#EBF0F8",
           "zerolinewidth": 2
          },
          "yaxis": {
           "automargin": true,
           "gridcolor": "#EBF0F8",
           "linecolor": "#EBF0F8",
           "ticks": "",
           "title": {
            "standoff": 15
           },
           "zerolinecolor": "#EBF0F8",
           "zerolinewidth": 2
          }
         }
        },
        "title": {
         "text": "Annotation Comparison by Text Span"
        }
       }
      }
     },
     "metadata": {},
     "output_type": "display_data"
    }
   ],
   "source": [
    "my_project.compare_annotation_collections(\n",
    "    annotation_collections=['ac_1', 'ac_2'],\n",
    "    color_col='prop:mental'\n",
    ")"
   ]
  },
  {
   "cell_type": "markdown",
   "metadata": {},
   "source": [
    "To compute the agreement of property annotations you just have to use the `level` parameter:"
   ]
  },
  {
   "cell_type": "code",
   "execution_count": 7,
   "metadata": {},
   "outputs": [
    {
     "name": "stdout",
     "output_type": "stream",
     "text": [
      "\n",
      "Finished search for overlapping annotations.\n",
      "Could match 6 annotations.\n",
      "Average overlap is 83.19 %.\n",
      "Couldn't match 0 annotation(s) in first annotation collection.\n",
      "\n",
      "\n",
      "\n",
      "Scott's pi: 1.0\n",
      "Cohen's Kappa: 1.0\n",
      "Krippendorf Alpha: 1.0\n",
      "-------------------\n",
      "-------------------\n",
      "Confusion Martrix:\n",
      "\n"
     ]
    },
    {
     "data": {
      "text/html": [
       "<div>\n",
       "<style scoped>\n",
       "    .dataframe tbody tr th:only-of-type {\n",
       "        vertical-align: middle;\n",
       "    }\n",
       "\n",
       "    .dataframe tbody tr th {\n",
       "        vertical-align: top;\n",
       "    }\n",
       "\n",
       "    .dataframe thead th {\n",
       "        text-align: right;\n",
       "    }\n",
       "</style>\n",
       "<table border=\"1\" class=\"dataframe\">\n",
       "  <thead>\n",
       "    <tr style=\"text-align: right;\">\n",
       "      <th></th>\n",
       "      <th>yes</th>\n",
       "      <th>no</th>\n",
       "    </tr>\n",
       "  </thead>\n",
       "  <tbody>\n",
       "    <tr>\n",
       "      <th>yes</th>\n",
       "      <td>1</td>\n",
       "      <td>0</td>\n",
       "    </tr>\n",
       "    <tr>\n",
       "      <th>no</th>\n",
       "      <td>0</td>\n",
       "      <td>5</td>\n",
       "    </tr>\n",
       "  </tbody>\n",
       "</table>\n",
       "</div>"
      ],
      "text/plain": [
       "     yes  no\n",
       "yes    1   0\n",
       "no     0   5"
      ]
     },
     "execution_count": 7,
     "metadata": {},
     "output_type": "execute_result"
    }
   ],
   "source": [
    "my_project.get_iaa(\n",
    "    ac1_name='ac_1',\n",
    "    ac2_name='ac_2',\n",
    "    level='prop:mental'\n",
    ")"
   ]
  },
  {
   "cell_type": "markdown",
   "metadata": {},
   "source": [
    "This example shows that in some cases the `get_iaa` method ignores disagreeing annotations,\n",
    "because they are not the best matching annotation.\n",
    "In the last annotation span of annotation collection 1 we can find one discontinuous and one embedded\n",
    "annotation in annotation collection one.\n",
    "But only the discontinuous annotations gets considered when computing the IAA because it is the better match to\n",
    "the last annotation in annotation collection 1.\n",
    "\n",
    "Again, if unitizing plays an important role in your annotation task we recommend the gamma agreement method."
   ]
  },
  {
   "cell_type": "markdown",
   "metadata": {},
   "source": [
    "## `gamma_agreement()`\n",
    "\n",
    "To compute the gamma agreement additionaly to the annotation collections 5 further parameter\n",
    "have to be defined.\n",
    "The `alpha`, `beta` and `delta_empty` are necessary to compute the\n",
    "[`CombinedCategoricalDissimilarity`](https://github.com/bootphon/pygamma-agreement/blob/master/pygamma_agreement/dissimilarity.py#L467).\n",
    "The `n_samples` and the `precision_level` value are used in the \n",
    "[`compute_gamma()` method](https://github.com/bootphon/pygamma-agreement/blob/master/pygamma_agreement/continuum.py#L805).\n",
    "See the documentations in pygamma and\n",
    "[Mathet et al. 2015](https://watermark.silverchair.com/coli_a_00227.pdf?token=AQECAHi208BE49Ooan9kkhW_Ercy7Dm3ZL_9Cf3qfKAc485ysgAAAsIwggK-BgkqhkiG9w0BBwagggKvMIICqwIBADCCAqQGCSqGSIb3DQEHATAeBglghkgBZQMEAS4wEQQMyMMaVYZBoX9znulIAgEQgIICdcXaIROcjaVrG686Y8MbKCDLINhO9N1vw5uOJOJShc3XANoIUnzebJcOwEmQLXo-sEfzscvk3C0fxSz6FN366vSE6P1rxte_YRurfJzgCMaiUz92Xh4Texplkgm0ihcRCXL3mw6vBbVSzV3WmfKGV3pyOJbOZrFoY5SMS8Oak1z6Ox8cg7dy2nvNJnn7m_ZV29R1s7z-CShjXX6re2jX6Nm4iSeQTqfDU5z8_TEH-G7Q61jT7AF-VAcsLC9r91AgDYssNNnEGodmgQOcSNSROAbWyyRAbURaHKaJPdfwuFqKQ873U7LhMV8Qu8gyP1tSMKBBT59eccs129r6q9aeJVA7LwvjRoY5XLlINwRetXkX6haJmfrza5jCJ0o6fNXk5w_p-_J_pcpzw0usY9J1nErEPG_ugW2aGmOh4pLgP1r9Bi77BtRMzN-q20TblioMiffKDBjkn9tDs83XeFxRNq9GsCZRLs8BXeFa9aefnzeTRgSRDop6kVXDmZQBpcBaxMaZuGtLP1Y4HMfbB2za6cBk2HzPtTvoRjaxqXUZ9WkkXXy6_MUWDOWjLe5CWG2wXWQrEQfCfvd5xmT29f6b6GxWh-80skkLCzcMDWz_rTQceex7L1l4gBvU5A0ChUK54kv_Xw9XjOkVTbYYXQDdiqaxFttNty_mWzJwcRpEyLAdCTMRBjpqRzBdYywtsrsQPHINFGK7NkkKkx_weGI7um5BiOT78C29wqshiADF-wKVG0mFQbPzfVpddgfvgjxQZ9bfKrI-HwkOttHV4I9U7YACHOrbC4iSSyO98oEc7dYpKBqowB7ypHarLP298TwEzfqOdww0)\n",
    "for further information about these parameters."
   ]
  },
  {
   "cell_type": "code",
   "execution_count": 8,
   "metadata": {},
   "outputs": [
    {
     "name": "stdout",
     "output_type": "stream",
     "text": [
      "The gamma agreement is 0.26121075218578416\n"
     ]
    }
   ],
   "source": [
    "# gamma agreement with default settings\n",
    "my_project.gamma_agreement(\n",
    "    annotation_collections=['ac_1', 'ac_2'],\n",
    "    alpha=3,\n",
    "    beta=1,\n",
    "    delta_empty=0.01,\n",
    "    n_samples=30,\n",
    "    precision_level=0.01\n",
    ")"
   ]
  },
  {
   "cell_type": "markdown",
   "metadata": {},
   "source": [
    "If you want to work with a different dissimillarity algorithm\n",
    "consider to use pygamma directly.\n",
    "For this purpose you can save all annotations in a project as a csv\n",
    "in the format pygamma needs as input:"
   ]
  },
  {
   "cell_type": "code",
   "execution_count": 11,
   "metadata": {},
   "outputs": [
    {
     "data": {
      "text/html": [
       "<div>\n",
       "<style scoped>\n",
       "    .dataframe tbody tr th:only-of-type {\n",
       "        vertical-align: middle;\n",
       "    }\n",
       "\n",
       "    .dataframe tbody tr th {\n",
       "        vertical-align: top;\n",
       "    }\n",
       "\n",
       "    .dataframe thead th {\n",
       "        text-align: right;\n",
       "    }\n",
       "</style>\n",
       "<table border=\"1\" class=\"dataframe\">\n",
       "  <thead>\n",
       "    <tr style=\"text-align: right;\">\n",
       "      <th></th>\n",
       "      <th>annotator</th>\n",
       "      <th>tag</th>\n",
       "      <th>start_point</th>\n",
       "      <th>end_point</th>\n",
       "    </tr>\n",
       "  </thead>\n",
       "  <tbody>\n",
       "    <tr>\n",
       "      <th>0</th>\n",
       "      <td>MMeister</td>\n",
       "      <td>stative_event</td>\n",
       "      <td>67</td>\n",
       "      <td>122</td>\n",
       "    </tr>\n",
       "    <tr>\n",
       "      <th>1</th>\n",
       "      <td>MVauth</td>\n",
       "      <td>stative_event</td>\n",
       "      <td>123</td>\n",
       "      <td>356</td>\n",
       "    </tr>\n",
       "    <tr>\n",
       "      <th>2</th>\n",
       "      <td>MVauth</td>\n",
       "      <td>stative_event</td>\n",
       "      <td>358</td>\n",
       "      <td>443</td>\n",
       "    </tr>\n",
       "    <tr>\n",
       "      <th>3</th>\n",
       "      <td>MMeister</td>\n",
       "      <td>process</td>\n",
       "      <td>445</td>\n",
       "      <td>487</td>\n",
       "    </tr>\n",
       "    <tr>\n",
       "      <th>4</th>\n",
       "      <td>MVauth</td>\n",
       "      <td>process</td>\n",
       "      <td>488</td>\n",
       "      <td>643</td>\n",
       "    </tr>\n",
       "  </tbody>\n",
       "</table>\n",
       "</div>"
      ],
      "text/plain": [
       "  annotator            tag  start_point  end_point\n",
       "0  MMeister  stative_event           67        122\n",
       "1    MVauth  stative_event          123        356\n",
       "2    MVauth  stative_event          358        443\n",
       "3  MMeister        process          445        487\n",
       "4    MVauth        process          488        643"
      ]
     },
     "execution_count": 11,
     "metadata": {},
     "output_type": "execute_result"
    }
   ],
   "source": [
    "pygamma_df = my_project.pygamma_table(\n",
    "    annotation_collections=['ac_1', 'ac_2']\n",
    ")\n",
    "\n",
    "# save\n",
    "pygamma_df.to_csv('../test/pygamma_table.csv', index=False, header=False)\n",
    "\n",
    "# show example\n",
    "pygamma_df.head(5)"
   ]
  }
 ],
 "metadata": {
  "interpreter": {
   "hash": "0aeb839bc1fa9071e2c89c506d6a5f005efc3f16a8f217a2b2b732963ddcf6b9"
  },
  "kernelspec": {
   "display_name": "Python 3.9.10 ('.gitma_venv': venv)",
   "language": "python",
   "name": "python3"
  },
  "language_info": {
   "codemirror_mode": {
    "name": "ipython",
    "version": 3
   },
   "file_extension": ".py",
   "mimetype": "text/x-python",
   "name": "python",
   "nbconvert_exporter": "python",
   "pygments_lexer": "ipython3",
   "version": "3.9.10"
  },
  "orig_nbformat": 4
 },
 "nbformat": 4,
 "nbformat_minor": 2
}
