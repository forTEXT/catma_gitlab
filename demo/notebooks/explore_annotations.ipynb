{
 "cells": [
  {
   "cell_type": "markdown",
   "metadata": {},
   "source": [
    "# Explore annotations\n",
    "This demo uses the demo CATMA project.\n",
    "If you want to use it for your own annotations you first have to clone your CATMA project locally.\n",
    "For further information about cloning your CATMA project see [this notebook](https://github.com/forTEXT/gitma/blob/main/demo/notebooks/load_project_from_gitlab.ipynb)."
   ]
  },
  {
   "cell_type": "markdown",
   "metadata": {},
   "source": [
    "## Table of contents\n",
    "* [Load a CATMA project](#1-bullet)\n",
    "* [General project stats](#2-bullet)\n",
    "* [Annotation overview for the entire project](#3-bullet)\n",
    "* [Plot annotations for a specified annotation collection](#4-bullet)\n",
    "  * [Scatter plot](#4.1)\n",
    "  * [Cooccurrence network](#4.2)\n",
    "* [Annotation collection as Pandas DataFrame](#5-bullet)\n",
    "* [Annotation stats by tags](#6-bullet)\n",
    "* [Annotation stats by properties / property values](#7-bullet)"
   ]
  },
  {
   "cell_type": "markdown",
   "metadata": {},
   "source": [
    "## Load a CATMA project <a class=\"anchor\" id=\"1-bullet\"></a>"
   ]
  },
  {
   "cell_type": "code",
   "execution_count": null,
   "metadata": {},
   "outputs": [],
   "source": [
    "from gitma import CatmaProject"
   ]
  },
  {
   "cell_type": "code",
   "execution_count": null,
   "metadata": {},
   "outputs": [],
   "source": [
    "my_project = CatmaProject(\n",
    "    projects_directory='../projects/',\n",
    "    project_name='CATMA_9385E190-13CD-44BE-8A06-32FA95B7EEFA_GitMA_Demo_Project'\n",
    ")"
   ]
  },
  {
   "cell_type": "markdown",
   "metadata": {},
   "source": [
    "## General project stats <a class=\"anchor\" id=\"2-bullet\"></a>\n",
    "The `stats()` method shows you some metadata about your annotation collections."
   ]
  },
  {
   "cell_type": "code",
   "execution_count": null,
   "metadata": {},
   "outputs": [],
   "source": [
    "my_project.stats()"
   ]
  },
  {
   "cell_type": "markdown",
   "metadata": {},
   "source": [
    "## Annotation overview for the entire project <a class=\"anchor\" id=\"3-bullet\"></a>\n",
    "Using the method `plot_interactive()` the annotations of each annotation collection and each document are plotted as a single subplot.\n",
    "\n",
    "The demo project contains only one annotated document but two annotation collections.\n",
    "By clicking on the legend entries you can deactivate specific annotation collections within the plot.\n",
    "\n",
    "By hovering over the scatter point every annotation can be explored."
   ]
  },
  {
   "cell_type": "code",
   "execution_count": null,
   "metadata": {},
   "outputs": [],
   "source": [
    "my_project.plot_annotations()"
   ]
  },
  {
   "cell_type": "markdown",
   "metadata": {},
   "source": [
    "The plot can be customized by the `color_col` parameter,\n",
    "for example to visualize annotation properties"
   ]
  },
  {
   "cell_type": "code",
   "execution_count": null,
   "metadata": {},
   "outputs": [],
   "source": [
    "my_project.plot_annotations(color_col='prop:representation_type')"
   ]
  },
  {
   "cell_type": "markdown",
   "metadata": {},
   "source": [
    "... or the annotators..."
   ]
  },
  {
   "cell_type": "code",
   "execution_count": null,
   "metadata": {},
   "outputs": [],
   "source": [
    "my_project.plot_annotations(color_col='annotator')"
   ]
  },
  {
   "cell_type": "markdown",
   "metadata": {},
   "source": [
    "## Plot annotations for a specified annotation collection <a class=\"anchor\" id=\"4-bullet\"></a>\n",
    "\n",
    "### Scatter plot <a class=\"anchor\" id=\"4.1\"></a>\n",
    "The annotations of single annotation collections can be plotted as an interactive [Plotly scatter plot](https://plotly.com/python/), too.\n",
    "The annotations can be explored with respect to:\n",
    "- their tag: y-axis\n",
    "- their text position: x-axis\n",
    "- the annotated text passages: mouse over\n",
    "- their properties: mouse over"
   ]
  },
  {
   "cell_type": "code",
   "execution_count": null,
   "metadata": {},
   "outputs": [],
   "source": [
    "my_project.ac_dict['ac_2'].plot_annotations()"
   ]
  },
  {
   "cell_type": "markdown",
   "metadata": {},
   "source": [
    "You can customize the plot by choosing annotation properties for the y_axis and the scatter color."
   ]
  },
  {
   "cell_type": "code",
   "execution_count": null,
   "metadata": {},
   "outputs": [],
   "source": [
    "my_project.ac_dict['ac_2'].plot_annotations(y_axis='prop:representation_type')"
   ]
  },
  {
   "cell_type": "code",
   "execution_count": null,
   "metadata": {},
   "outputs": [],
   "source": [
    "my_project.ac_dict['ac_2'].plot_annotations(\n",
    "    y_axis='annotator',\n",
    "    color_prop='prop:representation_type'\n",
    ")"
   ]
  },
  {
   "cell_type": "markdown",
   "metadata": {},
   "source": [
    "### Cooccurrence network <a class=\"anchor\" id=\"4.2\"></a>\n",
    "An alternative way to visualize annotation collections is using networks.\n",
    "They can be used to get an insight into the cooccurrence of annotations."
   ]
  },
  {
   "cell_type": "code",
   "execution_count": null,
   "metadata": {},
   "outputs": [],
   "source": [
    "my_project.ac_dict['ac_1'].cooccurrence_network()"
   ]
  },
  {
   "cell_type": "markdown",
   "metadata": {},
   "source": [
    "The networks can be customized by the following optional parameters:\n",
    "\n",
    "- character_distance: the text span within which two annotations are considered to be cooccurrent. The default is 100 characters.\n",
    "- included_tags: a list of tags that are included when drawing the graph\n",
    "- excluded_tags: a list of tags that are excluded when drawing the graph\n",
    "\n",
    "Since the demo project contains a low number of annotations, these networks are not very exciting:"
   ]
  },
  {
   "cell_type": "code",
   "execution_count": null,
   "metadata": {},
   "outputs": [],
   "source": [
    "my_project.ac_dict['ac_1'].cooccurrence_network(\n",
    "    character_distance=50,\n",
    "    included_tags=['process_event', 'stative_event'],\n",
    "    excluded_tags=None\n",
    ")"
   ]
  },
  {
   "cell_type": "markdown",
   "metadata": {},
   "source": [
    "This example from a larger annotation collection shows that the edges' weights visualize the count of cooccurrences:\n",
    "\n",
    "<img src=\"img/network_example.png\">"
   ]
  },
  {
   "cell_type": "markdown",
   "metadata": {},
   "source": [
    "## Annotation collection as Pandas DataFrame <a class=\"anchor\" id=\"5-bullet\"></a>"
   ]
  },
  {
   "cell_type": "code",
   "execution_count": null,
   "metadata": {},
   "outputs": [],
   "source": [
    "my_project.ac_dict['ac_2'].df"
   ]
  },
  {
   "cell_type": "markdown",
   "metadata": {},
   "source": [
    "## Annotation stats by tags <a class=\"anchor\" id=\"6-bullet\"></a>\n",
    "The `tag_stats()` method counts, for each tag:\n",
    "- the number of annotations\n",
    "- the full text span annotated by the tag\n",
    "- the average text span of the annotations\n",
    "- the most frequent tokens (here, it is possible to define a stopword list)"
   ]
  },
  {
   "cell_type": "code",
   "execution_count": null,
   "metadata": {},
   "outputs": [],
   "source": [
    "my_project.ac_dict['ac_2'].tag_stats(ranking=5)"
   ]
  },
  {
   "cell_type": "markdown",
   "metadata": {},
   "source": [
    "Additionally, you can use the method for properties (if you used any in the annotation process) and different annotators:"
   ]
  },
  {
   "cell_type": "code",
   "execution_count": null,
   "metadata": {},
   "outputs": [],
   "source": [
    "my_project.ac_dict['ac_2'].tag_stats(tag_col='prop:representation_type', ranking=3, stopwords=['a', 'to', 'the'])"
   ]
  },
  {
   "cell_type": "markdown",
   "metadata": {},
   "source": [
    "Above, every row shows the data for the different property values."
   ]
  },
  {
   "cell_type": "code",
   "execution_count": null,
   "metadata": {},
   "outputs": [],
   "source": [
    "my_project.ac_dict['ac_2'].tag_stats(tag_col='annotator', ranking=3)"
   ]
  },
  {
   "cell_type": "markdown",
   "metadata": {},
   "source": [
    "Above, every row shows the data for the different annotators."
   ]
  },
  {
   "cell_type": "markdown",
   "metadata": {},
   "source": [
    "## Annotation stats by properties / property values <a class=\"anchor\" id=\"7-bullet\"></a>"
   ]
  },
  {
   "cell_type": "code",
   "execution_count": null,
   "metadata": {},
   "outputs": [],
   "source": [
    "my_project.ac_dict['ac_2'].property_stats()"
   ]
  }
 ],
 "metadata": {
  "interpreter": {
   "hash": "87fea37bc2fc5e48df9c556e0c5d422e790f997aa4713ca3dbac94eb0b0e073b"
  },
  "kernelspec": {
   "display_name": "Python 3",
   "language": "python",
   "name": "python3"
  },
  "language_info": {
   "codemirror_mode": {
    "name": "ipython",
    "version": 3
   },
   "file_extension": ".py",
   "mimetype": "text/x-python",
   "name": "python",
   "nbconvert_exporter": "python",
   "pygments_lexer": "ipython3",
   "version": "3.10.6"
  }
 },
 "nbformat": 4,
 "nbformat_minor": 2
}
