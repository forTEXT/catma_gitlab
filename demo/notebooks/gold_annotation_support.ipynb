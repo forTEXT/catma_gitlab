{
 "cells": [
  {
   "cell_type": "markdown",
   "metadata": {},
   "source": [
    "# Gold annotation support\n",
    "This demo uses the demo CATMA project.\n",
    "If you want to use it for your own annotations you first have to clone your CATMA project locally.\n",
    "For further information about cloning your CATMA project see [this notebook](https://github.com/forTEXT/gitma/blob/main/demo/notebooks/load_project_from_gitlab.ipynb)."
   ]
  },
  {
   "cell_type": "markdown",
   "metadata": {},
   "source": [
    "## Table of contents\n",
    "* [Introduction](#1-bullet)\n",
    "* [Load the CATMA project](#2-bullet)\n",
    "* [Create automated gold annotations](#3-bullet)"
   ]
  },
  {
   "cell_type": "markdown",
   "metadata": {},
   "source": [
    "## Introduction <a class=\"anchor\" id=\"1-bullet\"></a>\n",
    "To support the creation of gold annotations, this package can be used to copy the matching annotations of two annotators into a gold annotation collection.\n",
    "In the CATMA user interface the missing annotations can be created manually and the automatically created gold annotations can be revised.\n",
    "\n",
    "What is considered a matching annotation can be customized.\n",
    "Explanations follow below.\n",
    "\n",
    "To proceed, it is necessary that an empty annotation collection has already been created in the CATMA UI, into which the gold annotations will be written."
   ]
  },
  {
   "cell_type": "markdown",
   "metadata": {},
   "source": [
    "## Load the CATMA project <a class=\"anchor\" id=\"2-bullet\"></a>"
   ]
  },
  {
   "cell_type": "code",
   "execution_count": null,
   "metadata": {},
   "outputs": [],
   "source": [
    "from gitma import CatmaProject"
   ]
  },
  {
   "cell_type": "code",
   "execution_count": null,
   "metadata": {},
   "outputs": [],
   "source": [
    "my_project = CatmaProject(\n",
    "    projects_directory='../projects/',\n",
    "    project_name='CATMA_9385E190-13CD-44BE-8A06-32FA95B7EEFA_GitMA_Demo_Project'\n",
    ")"
   ]
  },
  {
   "cell_type": "markdown",
   "metadata": {},
   "source": [
    "As can been seen above, an empty annotation collection has already been created.\n",
    "We will use this annotation collection as the target location for the gold annotations."
   ]
  },
  {
   "cell_type": "markdown",
   "metadata": {},
   "source": [
    "## Create automated gold annotations <a class=\"anchor\" id=\"3-bullet\"></a>\n",
    "The method `create_gold_annotations()` compares 2 annotation collections.\n",
    "These are specified by the first 2 arguments: `ac_1_name` and `ac_2_name`.\n",
    "This is followed by the:\n",
    "- name of the gold annotation collection: `gold_ac_name`\n",
    "- a list of tag names that should not be considered when creating the gold annotations: `excluded_tags`\n",
    "- the minimal annotation overlap that is required for a match: `min_overlap`. This should be set to at least `0.5`.\n",
    "- whether only annotations with the same tag are considered a match: `same_tag`.\n",
    " If your annotation project is more focused on segmentation or unitizing this might be set to `False`.\n",
    "- whether `'matching'` or `'none'` property values should be included in the gold annotations: `property_values`\n",
    "- whether the newly created gold annotations should be pushed to CATMA's GitLab backend: `push_to_gitlab` *(Note that to use this option you currently need a separate Git installation with valid saved credentials for your CATMA account)*"
   ]
  },
  {
   "cell_type": "code",
   "execution_count": null,
   "metadata": {},
   "outputs": [],
   "source": [
    "my_project.create_gold_annotations(\n",
    "    ac_1_name='ac_1',               # change to your collection name if you don't use the demo project\n",
    "    ac_2_name='ac_2',               # change to your collection name if you don't use the demo project\n",
    "    gold_ac_name='gold_annotation',\n",
    "    excluded_tags=[],\n",
    "    min_overlap=0.95,               # raise to 1.0 if only full annotation pairs with full span matching should be included in gold annotations\n",
    "    same_tag=True,\n",
    "    property_values='matching',     \n",
    "    push_to_gitlab=False            # the push to GitLab will not work with the demo project\n",
    ")"
   ]
  },
  {
   "cell_type": "markdown",
   "metadata": {},
   "source": [
    "In addition to the newly created gold annotations, the method `create_gold_annotations()` returns a short report.\n",
    "In the demo project, 16 annotations met the defined criteria for matches.\n",
    "\n",
    "If you set `push_to_gitlab` to `True` you can continue to work with the gold annotations after you've synchronized the project in the CATMA user interface:\n",
    "<img src=\"img/project_synchronize.png\">"
   ]
  }
 ],
 "metadata": {
  "interpreter": {
   "hash": "0aeb839bc1fa9071e2c89c506d6a5f005efc3f16a8f217a2b2b732963ddcf6b9"
  },
  "kernelspec": {
   "display_name": "Python 3.9.9 64-bit ('.gitma_venv': venv)",
   "language": "python",
   "name": "python3"
  },
  "language_info": {
   "codemirror_mode": {
    "name": "ipython",
    "version": 3
   },
   "file_extension": ".py",
   "mimetype": "text/x-python",
   "name": "python",
   "nbconvert_exporter": "python",
   "pygments_lexer": "ipython3",
   "version": "3.9.9"
  },
  "orig_nbformat": 4
 },
 "nbformat": 4,
 "nbformat_minor": 2
}
