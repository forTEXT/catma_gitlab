{
 "cells": [
  {
   "cell_type": "markdown",
   "metadata": {},
   "source": [
    "# Explore your CATMA profile and load CATMA projects from the GitLab backend"
   ]
  },
  {
   "cell_type": "markdown",
   "metadata": {},
   "source": [
    "## Table of contents\n",
    "* [Get an access token](#first-bullet)\n",
    "* [Import the `Catma` class and load your CATMA profile](#second-bullet)\n",
    "* [Clone and load a CATMA project](#third-bullet)\n",
    "* [Process a CATMA project with the `Catma` class](#fourth-bullet)\n",
    "* [Additional functionalities of the `Catma` class](#fifth-bullet)\n",
    "  * [Get the Git command to manually clone a project from the terminal](#5.1-bullet)\n",
    "  * [Load all projects in your CATMA account](#5.2-bullet)"
   ]
  },
  {
   "cell_type": "markdown",
   "metadata": {},
   "source": [
    "## Get an access token <a class=\"anchor\" id=\"first-bullet\"></a>\n",
    "A universal way to access your CATMA profile via Git, no matter what type of CATMA account you have, is to use a CATMA access token.\n",
    "If you only need read-only access to your annotations, use the access token generator in the CATMA UI.\n",
    "These access token are valid for 2 months by default.\n",
    "\n",
    "<img src=\"img/access_token_ui.png\">\n",
    "\n",
    "Otherwise, you can generate an access token directly in [CATMA's GitLab backend](https://git.catma.de/-/profile/personal_access_tokens) with the \"**api**\" scope.\n",
    "Here you can decide for yourself how long the token should be valid:\n",
    "\n",
    "<img src=\"img/access_token_gitlab.png\">"
   ]
  },
  {
   "cell_type": "markdown",
   "metadata": {},
   "source": [
    "Your access token is the only parameter needed to load your CATMA profile using this package:"
   ]
  },
  {
   "metadata": {},
   "cell_type": "markdown",
   "source": "## Import the `Catma` class and load your CATMA profile <a class=\"anchor\" id=\"second-bullet\"></a>"
  },
  {
   "cell_type": "code",
   "execution_count": null,
   "metadata": {},
   "outputs": [],
   "source": [
    "from gitma import Catma\n",
    "\n",
    "your_access_token = 'insert your access token here'\n",
    "my_catma = Catma(gitlab_access_token=your_access_token)"
   ]
  },
  {
   "cell_type": "markdown",
   "metadata": {},
   "source": [
    "First, let's look at your CATMA projects:"
   ]
  },
  {
   "cell_type": "code",
   "execution_count": null,
   "metadata": {},
   "outputs": [],
   "source": [
    "my_catma.project_name_list"
   ]
  },
  {
   "cell_type": "markdown",
   "metadata": {},
   "source": [
    "## Clone and load a CATMA project <a class=\"anchor\" id=\"third-bullet\"></a>\n",
    "The `Catma` class instance can be used to clone and load a CATMA project.\n",
    "The only neccessary argument is the project's name.\n",
    "Optionally, a different destination directory can be specified."
   ]
  },
  {
   "cell_type": "code",
   "execution_count": null,
   "metadata": {},
   "outputs": [],
   "source": [
    "your_project_name = 'insert your project name here'\n",
    "\n",
    "my_catma.load_project_from_gitlab(\n",
    "    project_name=your_project_name,\n",
    "    backup_directory='../../user_projects/'\n",
    ")"
   ]
  },
  {
   "metadata": {},
   "cell_type": "markdown",
   "source": [
    "If a project was previously loaded from CATMA's GitLab backend, and you try to do so again, the operation will fail because the project already exists in the destination directory.\n",
    "If you want to fetch a fresh copy (that is, clone the project again) you need to delete or rename the existing project directory.\n",
    "Alternatively, if you simply want to load the existing copy of the project, you can use the `load_local_project` function as below:"
   ]
  },
  {
   "metadata": {},
   "cell_type": "code",
   "outputs": [],
   "execution_count": null,
   "source": [
    "my_catma.load_local_project(\n",
    "    projects_directory='../../user_projects/',\n",
    "    project_name=your_project_name\n",
    ")"
   ]
  },
  {
   "cell_type": "markdown",
   "metadata": {},
   "source": [
    "## Process a CATMA project with the `Catma` class <a class=\"anchor\" id=\"fourth-bullet\"></a>\n",
    "The loaded project can now be inspected using the project dictionary."
   ]
  },
  {
   "cell_type": "code",
   "execution_count": null,
   "metadata": {},
   "outputs": [],
   "source": "my_catma.project_dict[your_project_name].stats()"
  },
  {
   "cell_type": "markdown",
   "metadata": {},
   "source": [
    "## Additional functionalities of the `Catma` class <a class=\"anchor\" id=\"fifth-bullet\"></a>\n",
    "For further processing of CATMA projects please see the other demo notebooks."
   ]
  },
  {
   "cell_type": "markdown",
   "metadata": {},
   "source": [
    "### Get the Git command to manually clone a project from the terminal <a class=\"anchor\" id=\"5.1-bullet\"></a>"
   ]
  },
  {
   "cell_type": "code",
   "execution_count": null,
   "metadata": {},
   "outputs": [],
   "source": "my_catma.git_clone_command(project_name=your_project_name)"
  },
  {
   "cell_type": "markdown",
   "metadata": {},
   "source": [
    "### Load all projects in your CATMA account <a class=\"anchor\" id=\"5.2-bullet\"></a>\n",
    "Depending on the number of projects in your CATMA account, and the corresponding resources, this can take a long time."
   ]
  },
  {
   "cell_type": "code",
   "execution_count": null,
   "metadata": {},
   "outputs": [],
   "source": [
    "# my_catma.load_all_projects_from_gitlab"
   ]
  }
 ],
 "metadata": {
  "interpreter": {
   "hash": "0aeb839bc1fa9071e2c89c506d6a5f005efc3f16a8f217a2b2b732963ddcf6b9"
  },
  "kernelspec": {
   "display_name": "Python 3.9.9 64-bit ('.gitma_venv': venv)",
   "language": "python",
   "name": "python3"
  },
  "language_info": {
   "codemirror_mode": {
    "name": "ipython",
    "version": 3
   },
   "file_extension": ".py",
   "mimetype": "text/x-python",
   "name": "python",
   "nbconvert_exporter": "python",
   "pygments_lexer": "ipython3",
   "version": "3.9.10"
  },
  "orig_nbformat": 4
 },
 "nbformat": 4,
 "nbformat_minor": 2
}
