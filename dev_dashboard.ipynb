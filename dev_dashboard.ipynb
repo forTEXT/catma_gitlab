{
 "cells": [
  {
   "cell_type": "code",
   "execution_count": 3,
   "metadata": {},
   "outputs": [],
   "source": [
    "import gitma"
   ]
  },
  {
   "cell_type": "code",
   "execution_count": 4,
   "metadata": {},
   "outputs": [
    {
     "ename": "AttributeError",
     "evalue": "module 'gitma' has no attribute 'CatmaProject'",
     "output_type": "error",
     "traceback": [
      "\u001b[0;31m---------------------------------------------------------------------------\u001b[0m",
      "\u001b[0;31mAttributeError\u001b[0m                            Traceback (most recent call last)",
      "Cell \u001b[0;32mIn[4], line 1\u001b[0m\n\u001b[0;32m----> 1\u001b[0m project \u001b[39m=\u001b[39m gitma\u001b[39m.\u001b[39;49mCatmaProject(\n\u001b[1;32m      2\u001b[0m    project_name\u001b[39m=\u001b[39m\u001b[39m'\u001b[39m\u001b[39mAlice\u001b[39m\u001b[39m'\u001b[39m,\n\u001b[1;32m      3\u001b[0m    project_directory\u001b[39m=\u001b[39m\u001b[39m'\u001b[39m\u001b[39m./\u001b[39m\u001b[39m'\u001b[39m\n\u001b[1;32m      4\u001b[0m )\n",
      "\u001b[0;31mAttributeError\u001b[0m: module 'gitma' has no attribute 'CatmaProject'"
     ]
    }
   ],
   "source": [
    "project = gitma.CatmaProject(\n",
    "   project_name='Alice',\n",
    "   project_directory='./'\n",
    ")"
   ]
  }
 ],
 "metadata": {
  "kernelspec": {
   "display_name": ".venv",
   "language": "python",
   "name": "python3"
  },
  "language_info": {
   "codemirror_mode": {
    "name": "ipython",
    "version": 3
   },
   "file_extension": ".py",
   "mimetype": "text/x-python",
   "name": "python",
   "nbconvert_exporter": "python",
   "pygments_lexer": "ipython3",
   "version": "3.10.6"
  },
  "orig_nbformat": 4
 },
 "nbformat": 4,
 "nbformat_minor": 2
}
