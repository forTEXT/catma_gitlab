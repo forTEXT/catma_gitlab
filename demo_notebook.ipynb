{
 "cells": [
  {
   "cell_type": "markdown",
   "source": [
    "# Notbook to introduce CATMA git access with Python\r\n",
    "\r\n",
    "- This Notebook should be downloaded within the github repo (https://github.com/michaelvauth/catma_gitlab).\r\n",
    "- Make sure that you installed the package \"catma_gitlab\":\\\r\n",
    "```pip install git+https://github.com/michaelvauth/catma_gitlab```\r\n",
    "- For testing the package you can use the CATMA Project located in the demo_project direction **after you unzipped the folder**.\r\n",
    "- If you want to work with your own Catma Projects use git for a local clone of your Project (https://catma.de/documentation/git-access/):\r\n",
    "  ```\r\n",
    "  git clone --recurse-submodules PROJEKT-URL\r\n",
    "  ```\r\n",
    "  You find the PROJEKT URL in the CATMA GitLab."
   ],
   "metadata": {}
  },
  {
   "cell_type": "markdown",
   "source": [
    "## Import the CatmaProject class"
   ],
   "metadata": {}
  },
  {
   "cell_type": "code",
   "execution_count": null,
   "source": [
    "from catma_gitlab.project_class import CatmaProject"
   ],
   "outputs": [],
   "metadata": {}
  },
  {
   "cell_type": "markdown",
   "source": [
    "## Load the CATMA Project"
   ],
   "metadata": {}
  },
  {
   "cell_type": "code",
   "execution_count": null,
   "source": [
    "# the direction where your CATMA Projects are located. Unzip the demo project first!!!\r\n",
    "project_direction = 'demo_project/'\r\n",
    "\r\n",
    "# the Project UUID you find in the CATMA GitLab\r\n",
    "project_uuid = 'CATMA_13BFDD7D-0F8F-40A5-ACB1-3B058F67BBF0_test_corpus_root'\r\n",
    "\r\n",
    "# load the project\r\n",
    "project = CatmaProject(\r\n",
    "    project_direction=project_direction,\r\n",
    "    project_uuid=project_uuid,\r\n",
    "    filter_intrinsic_markup=False)"
   ],
   "outputs": [],
   "metadata": {}
  },
  {
   "cell_type": "markdown",
   "source": [
    "## Access the CATMA Annotation Collections as Pandas DataFrame"
   ],
   "metadata": {}
  },
  {
   "cell_type": "code",
   "execution_count": null,
   "source": [
    "# choose your annotation collection\r\n",
    "annotation_collection = 'ac_1'\r\n",
    "\r\n",
    "# load the annotations as pandas DataFrame\r\n",
    "project.ac_dict[annotation_collection].df"
   ],
   "outputs": [],
   "metadata": {}
  },
  {
   "cell_type": "markdown",
   "source": [
    "## Explore the Annotations in a interactive Plotly Scatter Plot"
   ],
   "metadata": {}
  },
  {
   "cell_type": "code",
   "execution_count": null,
   "source": [
    "# Plot your Annotation Collection as interactive Plotly Scatter Plot\r\n",
    "project.ac_dict[annotation_collection].plotly_plot()"
   ],
   "outputs": [],
   "metadata": {}
  },
  {
   "cell_type": "markdown",
   "source": [
    "## Create Gold Annotations\r\n",
    "(If you use the demo_project the following steps are not necessary.)\r\n",
    "1. Add a gold_annotation AnnotationCollection in the CATMA GUI\r\n",
    "2. Update your local CATMA Project with git:\r\n",
    "```\r\n",
    "git pull\r\n",
    "git submodule update --recursive --remote\r\n",
    "```\r\n",
    "3. Reload your local CATMA Project\r\n",
    "4. Create Gold Annotations\r\n",
    "5. Upload the Gold Annotation to the CATMA GitLab\r\n",
    "```\r\n",
    "cd MODIFIED_COLLECTION\r\n",
    "git add .\r\n",
    "git commit -m 'gold annotations'\r\n",
    "git push origin HEAD:master\r\n",
    "```\r\n",
    "6. Synchronize your Project in the CATMA GUI"
   ],
   "metadata": {}
  },
  {
   "cell_type": "code",
   "execution_count": null,
   "source": [
    "# reload local CATMA Project\r\n",
    "project = CatmaProject(\r\n",
    "    project_direction=project_direction,\r\n",
    "    project_uuid=project_uuid,\r\n",
    "    filter_intrinsic_markup=False)"
   ],
   "outputs": [],
   "metadata": {}
  },
  {
   "cell_type": "code",
   "execution_count": null,
   "source": [
    "project.create_gold_annotations(\r\n",
    "    ac_1_name='ac_1',\r\n",
    "    ac_2_name='ac_2',\r\n",
    "    gold_ac_name='gold_annotation',\r\n",
    "    excluded_tags=[],\r\n",
    "    min_overlap=0.95,\r\n",
    "    property_values='matching'\r\n",
    ")"
   ],
   "outputs": [],
   "metadata": {}
  }
 ],
 "metadata": {
  "orig_nbformat": 4,
  "language_info": {
   "name": "python",
   "version": "3.8.10",
   "mimetype": "text/x-python",
   "codemirror_mode": {
    "name": "ipython",
    "version": 3
   },
   "pygments_lexer": "ipython3",
   "nbconvert_exporter": "python",
   "file_extension": ".py"
  },
  "kernelspec": {
   "name": "python3",
   "display_name": "Python 3.8.10 64-bit (windows store)"
  },
  "interpreter": {
   "hash": "87fea37bc2fc5e48df9c556e0c5d422e790f997aa4713ca3dbac94eb0b0e073b"
  }
 },
 "nbformat": 4,
 "nbformat_minor": 2
}