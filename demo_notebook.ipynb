{
 "cells": [
  {
   "cell_type": "markdown",
   "source": [
    "# Notbook to introduce CATMA git access with Python\r\n",
    "\r\n",
    "- This Notebook should be downloaded within the github repo (https://github.com/forTEXT/catma_gitlab).\r\n",
    "- Make sure that you installed git and the Python package \"catma_gitlab\":\\\r\n",
    "```pip install git+https://github.com/forTEXT/catma_gitlab```\r\n",
    "- For testing the package you can use the CATMA Project located in the demo_project directory **after you unzipped the folder**.\r\n",
    "- If you want to work with your own Catma Projects you can eather use git manually for a local clone of your project (https://catma.de/documentation/git-access/) or you use the `load_from_gitlab` option when loading the CATMA project. Both options are explained below."
   ],
   "metadata": {}
  },
  {
   "cell_type": "markdown",
   "source": [
    "## Import the CatmaProject class"
   ],
   "metadata": {}
  },
  {
   "cell_type": "code",
   "execution_count": null,
   "source": [
    "from catma_gitlab.project import CatmaProject"
   ],
   "outputs": [],
   "metadata": {}
  },
  {
   "cell_type": "markdown",
   "source": [
    "## Load the Demo CATMA Project\r\n",
    "**Unzip the demo project first!!!**"
   ],
   "metadata": {}
  },
  {
   "cell_type": "code",
   "execution_count": null,
   "source": [
    "# the directory where the CATMA Projects are located.\r\n",
    "project_directory = 'demo_project/'\r\n",
    "\r\n",
    "# the Project UUID you find in the CATMA GitLab\r\n",
    "project_uuid = 'CATMA_13BFDD7D-0F8F-40A5-ACB1-3B058F67BBF0_test_corpus_root'\r\n",
    "\r\n",
    "# load the project\r\n",
    "project = CatmaProject(\r\n",
    "    project_directory=project_directory,\r\n",
    "    project_uuid=project_uuid,\r\n",
    "    filter_intrinsic_markup=False)"
   ],
   "outputs": [],
   "metadata": {}
  },
  {
   "cell_type": "markdown",
   "source": [
    "## Load your own CATMA Project\r\n",
    "\r\n",
    "First you need to get a CATMA Access Token in the CATMA GUI or in the CATMA GitLab."
   ],
   "metadata": {}
  },
  {
   "cell_type": "code",
   "execution_count": null,
   "source": [
    "your_catma_access_token = ''\r\n",
    "your_projects_name = ''\r\n",
    "\r\n",
    "project = CatmaProject(\r\n",
    "    load_from_gitlab=True,\r\n",
    "    private_gitlab_token=your_catma_access_token,\r\n",
    "    project_name=your_projects_name\r\n",
    ")"
   ],
   "outputs": [],
   "metadata": {}
  },
  {
   "cell_type": "markdown",
   "source": [
    "## Access the CATMA Annotation Collections as Pandas DataFrame"
   ],
   "metadata": {}
  },
  {
   "cell_type": "code",
   "execution_count": null,
   "source": [
    "# choose your annotation collection\r\n",
    "annotation_collection = 'ac_1'\r\n",
    "\r\n",
    "# load the annotations as pandas DataFrame\r\n",
    "project.ac_dict[annotation_collection].df"
   ],
   "outputs": [],
   "metadata": {}
  },
  {
   "cell_type": "markdown",
   "source": [
    "## Explore the Annotations in a interactive Plotly Scatter Plot"
   ],
   "metadata": {}
  },
  {
   "cell_type": "code",
   "execution_count": null,
   "source": [
    "# Plot your Annotation Collection as interactive Plotly Scatter Plot\r\n",
    "project.ac_dict[annotation_collection].plotly_plot()"
   ],
   "outputs": [],
   "metadata": {}
  },
  {
   "cell_type": "markdown",
   "source": [
    "## Create Gold Annotations\r\n",
    "1. Add a gold_annotation AnnotationCollection in the CATMA GUI and synchronize\r\n",
    "2. Update your local CATMA Project\r\n",
    "3. Create Gold Annotations\r\n",
    "4. Synchronize your Project in the CATMA GUI"
   ],
   "metadata": {}
  },
  {
   "cell_type": "code",
   "execution_count": null,
   "source": [
    "# Step 2: Update the CATMA project\r\n",
    "project.update()"
   ],
   "outputs": [],
   "metadata": {}
  },
  {
   "cell_type": "code",
   "execution_count": null,
   "source": [
    "# Step 3: Create gold annotations (which will be uploaded)\r\n",
    "project.create_gold_annotations(\r\n",
    "    ac_1_name='ac_1',\r\n",
    "    ac_2_name='ac_2',\r\n",
    "    gold_ac_name='gold_annotation',\r\n",
    "    excluded_tags=[],\r\n",
    "    min_overlap=0.95,\r\n",
    "    property_values='matching',\r\n",
    "    push_to_gitlab=False    # The push to gitlab will not work with the demo project\r\n",
    ")"
   ],
   "outputs": [],
   "metadata": {}
  }
 ],
 "metadata": {
  "orig_nbformat": 4,
  "language_info": {
   "name": "python",
   "version": "3.8.10",
   "mimetype": "text/x-python",
   "codemirror_mode": {
    "name": "ipython",
    "version": 3
   },
   "pygments_lexer": "ipython3",
   "nbconvert_exporter": "python",
   "file_extension": ".py"
  },
  "kernelspec": {
   "name": "python3",
   "display_name": "Python 3.8.10 64-bit (windows store)"
  },
  "interpreter": {
   "hash": "87fea37bc2fc5e48df9c556e0c5d422e790f997aa4713ca3dbac94eb0b0e073b"
  }
 },
 "nbformat": 4,
 "nbformat_minor": 2
}