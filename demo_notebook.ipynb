{
 "cells": [
  {
   "cell_type": "markdown",
   "metadata": {},
   "source": [
    "# Notebook to introduce CATMA git access with Python\n",
    "\n",
    "- This Notebook should be downloaded within the github repo (https://github.com/forTEXT/catma_gitlab).\n",
    "- Make sure that you installed git and the Python package \"catma_gitlab\":\\\n",
    "```pip install git+https://github.com/forTEXT/catma_gitlab```\n",
    "- For testing the package you can use the CATMA Project located in the demo_project directory **after you unzipped the folder**.\n",
    "- If you want to work with your own Catma Projects you can eather use git manually for a local clone of your project (https://catma.de/documentation/git-access/) or you use the `load_from_gitlab` option when loading the CATMA project. Both options are explained below."
   ]
  },
  {
   "cell_type": "markdown",
   "metadata": {},
   "source": [
    "## Import the CatmaProject class"
   ]
  },
  {
   "cell_type": "code",
   "execution_count": null,
   "metadata": {},
   "outputs": [],
   "source": [
    "from catma_gitlab import Catma, CatmaProject"
   ]
  },
  {
   "cell_type": "markdown",
   "metadata": {},
   "source": [
    "## Load your CATMA Profile\n",
    "To load your projects you can use the Catma class.\n",
    "That may be useful if you want to load multiple CATMA projects or just list your Project Names."
   ]
  },
  {
   "cell_type": "code",
   "execution_count": null,
   "metadata": {},
   "outputs": [],
   "source": [
    "my_catma = Catma(gitlab_access_token='')    # accessible in the CATMA UI\n",
    "print(my_catma.project_name_list)"
   ]
  },
  {
   "cell_type": "markdown",
   "metadata": {},
   "source": [
    "## Load a local CATMA Project with the `Catma` class\n",
    "In most cases it is recomended to load (local) CATMA projects with the `CatmaProject` class as shown below.\n",
    "Here we use the initialized `Catma` class to load a local CATMA project.\n",
    "\n",
    "If you don't have a local CATMA project yet, use the demo project or load a CATMA project with the `CatmaProject` class like explained below."
   ]
  },
  {
   "cell_type": "code",
   "execution_count": null,
   "metadata": {},
   "outputs": [],
   "source": [
    "project_directory = ''\n",
    "\n",
    "# select a project's name that is located in direction\n",
    "project_name = my_catma.project_name_list[0]\n",
    "\n",
    "my_catma.load_local_project(\n",
    "    project_directory=project_directory,\n",
    "    project_name=project_name,\n",
    "    excluded_acs=None,\n",
    ")\n",
    "\n",
    "# access project and show annotation progress\n",
    "my_catma.project_dict[project_name].plot_annotation_progression()"
   ]
  },
  {
   "cell_type": "markdown",
   "metadata": {},
   "source": [
    "## Load the Demo CATMA Project\n",
    "**Unzip the demo project first!!!**"
   ]
  },
  {
   "cell_type": "code",
   "execution_count": null,
   "metadata": {},
   "outputs": [],
   "source": [
    "# the directory where the CATMA Projects are located.\n",
    "project_directory = 'demo_project/'\n",
    "\n",
    "# the Project UUID you find in the CATMA GitLab\n",
    "project_uuid = 'CATMA_13BFDD7D-0F8F-40A5-ACB1-3B058F67BBF0_test_corpus_root'\n",
    "\n",
    "# load the project\n",
    "project = CatmaProject(\n",
    "    project_directory=project_directory,\n",
    "    project_uuid=project_uuid)"
   ]
  },
  {
   "cell_type": "markdown",
   "metadata": {},
   "source": [
    "## Load your own CATMA Project from the CATMA GitLab\n",
    "\n",
    "First you need to get a CATMA Access Token in the CATMA UI or in the CATMA GitLab."
   ]
  },
  {
   "cell_type": "code",
   "execution_count": null,
   "metadata": {},
   "outputs": [],
   "source": [
    "your_catma_access_token = ''\n",
    "your_projects_name = ''\n",
    "\n",
    "project = CatmaProject(\n",
    "    load_from_gitlab=True,\n",
    "    gitlab_access_token=your_catma_access_token,\n",
    "    project_name=your_projects_name\n",
    ")"
   ]
  },
  {
   "cell_type": "markdown",
   "metadata": {},
   "source": [
    "## Access the CATMA Annotation Collections as Pandas DataFrame"
   ]
  },
  {
   "cell_type": "code",
   "execution_count": null,
   "metadata": {},
   "outputs": [],
   "source": [
    "# choose your annotation collection\n",
    "annotation_collection = ''\n",
    "\n",
    "# load the annotations as pandas DataFrame\n",
    "project.ac_dict[annotation_collection].df"
   ]
  },
  {
   "cell_type": "markdown",
   "metadata": {},
   "source": [
    "## Explore the Annotations in a interactive Plotly Scatter Plot"
   ]
  },
  {
   "cell_type": "code",
   "execution_count": null,
   "metadata": {},
   "outputs": [],
   "source": [
    "# Plot your Annotation Collection as interactive Plotly Scatter Plot\n",
    "project.ac_dict[annotation_collection].plotly_plot()"
   ]
  },
  {
   "cell_type": "markdown",
   "metadata": {},
   "source": [
    "## Create Gold Annotations\n",
    "1. Add a gold_annotation AnnotationCollection in the CATMA GUI and synchronize\n",
    "2. Update your local CATMA Project\n",
    "3. Create Gold Annotations\n",
    "4. Synchronize your Project in the CATMA GUI"
   ]
  },
  {
   "cell_type": "code",
   "execution_count": null,
   "metadata": {},
   "outputs": [],
   "source": [
    "# Step 2: Update the CATMA project\n",
    "project.update()"
   ]
  },
  {
   "cell_type": "code",
   "execution_count": null,
   "metadata": {},
   "outputs": [],
   "source": [
    "# Step 3: Create gold annotations (which can be uploaded and edited in the CATMA UI)\n",
    "project.create_gold_annotations(\n",
    "    ac_1_name='ac_1',               # change to your collection name if you don't use the demo project\n",
    "    ac_2_name='ac_2',               # change to your collection name if you don't use the demo project\n",
    "    gold_ac_name='gold_annotation',\n",
    "    excluded_tags=[],\n",
    "    min_overlap=0.95,\n",
    "    property_values='matching',     # choose keyword 'none' if none Property Values shall be included in gold annotations\n",
    "    push_to_gitlab=False            # The push to gitlab will not work with the demo project\n",
    ")"
   ]
  }
 ],
 "metadata": {
  "interpreter": {
   "hash": "87fea37bc2fc5e48df9c556e0c5d422e790f997aa4713ca3dbac94eb0b0e073b"
  },
  "kernelspec": {
   "display_name": "Python 3.8.10 64-bit (windows store)",
   "name": "python3"
  },
  "language_info": {
   "codemirror_mode": {
    "name": "ipython",
    "version": 3
   },
   "file_extension": ".py",
   "mimetype": "text/x-python",
   "name": "python",
   "nbconvert_exporter": "python",
   "pygments_lexer": "ipython3",
   "version": "3.8.10"
  },
  "orig_nbformat": 4
 },
 "nbformat": 4,
 "nbformat_minor": 2
}
