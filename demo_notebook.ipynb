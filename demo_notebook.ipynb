{
 "cells": [
  {
   "cell_type": "markdown",
   "metadata": {},
   "source": [
    "# Notebook to introduce CATMA git access with Python\n",
    "\n",
    "- This Notebook should be downloaded within the github repo (https://github.com/forTEXT/catma_gitlab).\n",
    "- Make sure that you installed git and the Python package \"catma_gitlab\":\\\n",
    "```pip install git+https://github.com/forTEXT/catma_gitlab```\n",
    "- For testing the package you can use the CATMA Project located in the `test/demo_project` directory .\n",
    "- If you want to work with your own Catma Projects you can eather use git manually for a local clone of your project (https://catma.de/documentation/git-access/) or you use the `load_from_gitlab` option when loading the CATMA project. Both options are explained below."
   ]
  },
  {
   "cell_type": "markdown",
   "metadata": {},
   "source": [
    "## Import the CatmaProject class"
   ]
  },
  {
   "cell_type": "code",
   "execution_count": 2,
   "metadata": {},
   "outputs": [],
   "source": [
    "from catma_gitlab import Catma, CatmaProject"
   ]
  },
  {
   "cell_type": "markdown",
   "metadata": {},
   "source": [
    "## Load the demo Project\n",
    "In the directory `test/` a CATMA demo project is located.\n",
    "In can't be used for any git interaction but will show the use of the `CatmaProject` class."
   ]
  },
  {
   "cell_type": "code",
   "execution_count": 4,
   "metadata": {},
   "outputs": [
    {
     "name": "stdout",
     "output_type": "stream",
     "text": [
      "Loading Tagsets ...\n",
      "Loading Documents ...\n",
      "Loading Annotation Collections ...\n",
      "Loading Annotation Collection 'ac_2' for Kafka Franz Das Urteil\n",
      "\t-> with 6 Annotations.\n",
      "Loading Annotation Collection 'ac_1' for Kafka Franz Das Urteil\n",
      "\t-> with 6 Annotations.\n",
      "Loading Annotation Collection 'gold_annotation' for Kafka Franz Das Urteil\n",
      "\t-> with 0 Annotations.\n"
     ]
    }
   ],
   "source": [
    "project = CatmaProject(\n",
    "    project_directory='test/demo_project/',\n",
    "    project_uuid='test_corpus_root'\n",
    ")"
   ]
  },
  {
   "cell_type": "markdown",
   "metadata": {},
   "source": [
    "## Access the CATMA Annotation Collections as Pandas DataFrame"
   ]
  },
  {
   "cell_type": "code",
   "execution_count": 5,
   "metadata": {},
   "outputs": [
    {
     "data": {
      "text/html": [
       "<div>\n",
       "<style scoped>\n",
       "    .dataframe tbody tr th:only-of-type {\n",
       "        vertical-align: middle;\n",
       "    }\n",
       "\n",
       "    .dataframe tbody tr th {\n",
       "        vertical-align: top;\n",
       "    }\n",
       "\n",
       "    .dataframe thead th {\n",
       "        text-align: right;\n",
       "    }\n",
       "</style>\n",
       "<table border=\"1\" class=\"dataframe\">\n",
       "  <thead>\n",
       "    <tr style=\"text-align: right;\">\n",
       "      <th></th>\n",
       "      <th>document</th>\n",
       "      <th>annotation collection</th>\n",
       "      <th>annotator</th>\n",
       "      <th>tag</th>\n",
       "      <th>left_context</th>\n",
       "      <th>annotation</th>\n",
       "      <th>right_context</th>\n",
       "      <th>start_point</th>\n",
       "      <th>end_point</th>\n",
       "      <th>date</th>\n",
       "      <th>prop:unpredictable</th>\n",
       "      <th>prop:mental</th>\n",
       "      <th>prop:persistent</th>\n",
       "      <th>prop:intentional</th>\n",
       "    </tr>\n",
       "  </thead>\n",
       "  <tbody>\n",
       "    <tr>\n",
       "      <th>0</th>\n",
       "      <td>Kafka Franz Das Urteil</td>\n",
       "      <td>ac_1</td>\n",
       "      <td>MVauth</td>\n",
       "      <td>stative_event</td>\n",
       "      <td>ESCHICHTE VON FRANZ KAFKA\\nfür Fräulein Felice...</td>\n",
       "      <td>Es war an einem Sonntagvormittag im schönsten ...</td>\n",
       "      <td>Georg Bendemann, ein junger Kaufmann, saß in ...</td>\n",
       "      <td>67</td>\n",
       "      <td>122</td>\n",
       "      <td>2021-08-19 13:45:10</td>\n",
       "      <td>[no]</td>\n",
       "      <td>[no]</td>\n",
       "      <td>[nan]</td>\n",
       "      <td>[nan]</td>\n",
       "    </tr>\n",
       "    <tr>\n",
       "      <th>1</th>\n",
       "      <td>Kafka Franz Das Urteil</td>\n",
       "      <td>ac_1</td>\n",
       "      <td>MVauth</td>\n",
       "      <td>stative_event</td>\n",
       "      <td>an einem Sonntagvormittag im schönsten Frühja...</td>\n",
       "      <td>Georg  Bendemann, ein junger Kaufmann, saß in ...</td>\n",
       "      <td>, die entlang des Flusses in einer langen Reih...</td>\n",
       "      <td>123</td>\n",
       "      <td>246</td>\n",
       "      <td>2021-08-19 13:46:13</td>\n",
       "      <td>[no]</td>\n",
       "      <td>[no]</td>\n",
       "      <td>[nan]</td>\n",
       "      <td>[nan]</td>\n",
       "    </tr>\n",
       "    <tr>\n",
       "      <th>2</th>\n",
       "      <td>Kafka Franz Das Urteil</td>\n",
       "      <td>ac_1</td>\n",
       "      <td>MVauth</td>\n",
       "      <td>stative_event</td>\n",
       "      <td>Stock eines der niedrigen, leichtgebauten Häus...</td>\n",
       "      <td>die  entlang des Flusses in einer langen Reihe...</td>\n",
       "      <td>. Er hatte gerade einen Brief an einen sich im...</td>\n",
       "      <td>248</td>\n",
       "      <td>356</td>\n",
       "      <td>2021-08-19 13:46:50</td>\n",
       "      <td>[no]</td>\n",
       "      <td>[no]</td>\n",
       "      <td>[nan]</td>\n",
       "      <td>[nan]</td>\n",
       "    </tr>\n",
       "    <tr>\n",
       "      <th>3</th>\n",
       "      <td>Kafka Franz Das Urteil</td>\n",
       "      <td>ac_1</td>\n",
       "      <td>MVauth</td>\n",
       "      <td>process</td>\n",
       "      <td>er Höhe und Färbung unterschieden, sich hinzog...</td>\n",
       "      <td>Er hatte gerade einen  Brief an einen sich im ...</td>\n",
       "      <td>, verschloß ihn in spielerischer Langsamkeit u...</td>\n",
       "      <td>358</td>\n",
       "      <td>443</td>\n",
       "      <td>2021-08-19 13:47:02</td>\n",
       "      <td>[no]</td>\n",
       "      <td>[no]</td>\n",
       "      <td>[yes]</td>\n",
       "      <td>[yes]</td>\n",
       "    </tr>\n",
       "    <tr>\n",
       "      <th>4</th>\n",
       "      <td>Kafka Franz Das Urteil</td>\n",
       "      <td>ac_1</td>\n",
       "      <td>MVauth</td>\n",
       "      <td>process</td>\n",
       "      <td>sich im Ausland befindenden Jugendfreund beend...</td>\n",
       "      <td>verschloß ihn in spielerischer Langsamkeit</td>\n",
       "      <td>und sah dann, den Ellbogen auf den Schreibtis...</td>\n",
       "      <td>445</td>\n",
       "      <td>487</td>\n",
       "      <td>2021-08-19 13:47:32</td>\n",
       "      <td>[no]</td>\n",
       "      <td>[no]</td>\n",
       "      <td>[no]</td>\n",
       "      <td>[yes]</td>\n",
       "    </tr>\n",
       "    <tr>\n",
       "      <th>5</th>\n",
       "      <td>Kafka Franz Das Urteil</td>\n",
       "      <td>ac_1</td>\n",
       "      <td>MVauth</td>\n",
       "      <td>process</td>\n",
       "      <td>endet, verschloß ihn in spielerischer Langsamk...</td>\n",
       "      <td>und sah dann, den  Ellbogen auf den Schreibtis...</td>\n",
       "      <td>.\\n\\nEr dachte darüber nach, wie dieser Freund...</td>\n",
       "      <td>488</td>\n",
       "      <td>643</td>\n",
       "      <td>2021-08-19 13:48:40</td>\n",
       "      <td>[no]</td>\n",
       "      <td>[yes]</td>\n",
       "      <td>[no]</td>\n",
       "      <td>[yes]</td>\n",
       "    </tr>\n",
       "  </tbody>\n",
       "</table>\n",
       "</div>"
      ],
      "text/plain": [
       "                 document annotation collection annotator            tag  \\\n",
       "0  Kafka Franz Das Urteil                  ac_1    MVauth  stative_event   \n",
       "1  Kafka Franz Das Urteil                  ac_1    MVauth  stative_event   \n",
       "2  Kafka Franz Das Urteil                  ac_1    MVauth  stative_event   \n",
       "3  Kafka Franz Das Urteil                  ac_1    MVauth        process   \n",
       "4  Kafka Franz Das Urteil                  ac_1    MVauth        process   \n",
       "5  Kafka Franz Das Urteil                  ac_1    MVauth        process   \n",
       "\n",
       "                                        left_context  \\\n",
       "0  ESCHICHTE VON FRANZ KAFKA\\nfür Fräulein Felice...   \n",
       "1   an einem Sonntagvormittag im schönsten Frühja...   \n",
       "2  Stock eines der niedrigen, leichtgebauten Häus...   \n",
       "3  er Höhe und Färbung unterschieden, sich hinzog...   \n",
       "4  sich im Ausland befindenden Jugendfreund beend...   \n",
       "5  endet, verschloß ihn in spielerischer Langsamk...   \n",
       "\n",
       "                                          annotation  \\\n",
       "0  Es war an einem Sonntagvormittag im schönsten ...   \n",
       "1  Georg  Bendemann, ein junger Kaufmann, saß in ...   \n",
       "2  die  entlang des Flusses in einer langen Reihe...   \n",
       "3  Er hatte gerade einen  Brief an einen sich im ...   \n",
       "4         verschloß ihn in spielerischer Langsamkeit   \n",
       "5  und sah dann, den  Ellbogen auf den Schreibtis...   \n",
       "\n",
       "                                       right_context  start_point  end_point  \\\n",
       "0   Georg Bendemann, ein junger Kaufmann, saß in ...           67        122   \n",
       "1  , die entlang des Flusses in einer langen Reih...          123        246   \n",
       "2  . Er hatte gerade einen Brief an einen sich im...          248        356   \n",
       "3  , verschloß ihn in spielerischer Langsamkeit u...          358        443   \n",
       "4   und sah dann, den Ellbogen auf den Schreibtis...          445        487   \n",
       "5  .\\n\\nEr dachte darüber nach, wie dieser Freund...          488        643   \n",
       "\n",
       "                 date prop:unpredictable prop:mental prop:persistent  \\\n",
       "0 2021-08-19 13:45:10               [no]        [no]           [nan]   \n",
       "1 2021-08-19 13:46:13               [no]        [no]           [nan]   \n",
       "2 2021-08-19 13:46:50               [no]        [no]           [nan]   \n",
       "3 2021-08-19 13:47:02               [no]        [no]           [yes]   \n",
       "4 2021-08-19 13:47:32               [no]        [no]            [no]   \n",
       "5 2021-08-19 13:48:40               [no]       [yes]            [no]   \n",
       "\n",
       "  prop:intentional  \n",
       "0            [nan]  \n",
       "1            [nan]  \n",
       "2            [nan]  \n",
       "3            [yes]  \n",
       "4            [yes]  \n",
       "5            [yes]  "
      ]
     },
     "execution_count": 5,
     "metadata": {},
     "output_type": "execute_result"
    }
   ],
   "source": [
    "# choose your annotation collection\n",
    "annotation_collection = 'ac_1'\n",
    "\n",
    "# load the annotations as pandas DataFrame\n",
    "project.ac_dict[annotation_collection].df"
   ]
  },
  {
   "cell_type": "markdown",
   "metadata": {},
   "source": [
    "## Explore the Annotations in a interactive Plotly Scatter Plot"
   ]
  },
  {
   "cell_type": "code",
   "execution_count": 7,
   "metadata": {},
   "outputs": [
    {
     "data": {
      "application/vnd.plotly.v1+json": {
       "config": {
        "plotlyServerURL": "https://plot.ly"
       },
       "data": [
        {
         "customdata": [
          [
           "Es war an einem Sonntagvormittag im schönsten Frühjahr.",
           [
            "no"
           ],
           [
            "no"
           ],
           [
            "nan"
           ],
           [
            "nan"
           ]
          ],
          [
           "Georg  Bendemann, ein junger Kaufmann, saß in seinem Privatzimmer im  ersten Stock eines der niedrigen, leichtgebauten Häuser",
           [
            "no"
           ],
           [
            "no"
           ],
           [
            "nan"
           ],
           [
            "nan"
           ]
          ],
          [
           "die  entlang des Flusses in einer langen Reihe, fast nur in der Höhe  und Färbung unterschieden, sich hinzogen",
           [
            "no"
           ],
           [
            "no"
           ],
           [
            "nan"
           ],
           [
            "nan"
           ]
          ]
         ],
         "hovertemplate": "tag=%{y}<br>start_point=%{x}<br>annotation=%{customdata[0]}<br>prop:unpredictable=%{customdata[1]}<br>prop:mental=%{customdata[2]}<br>prop:persistent=%{customdata[3]}<br>prop:intentional=%{customdata[4]}<extra></extra>",
         "legendgroup": "stative_event",
         "marker": {
          "color": "#636efa",
          "opacity": 0.7,
          "symbol": "circle"
         },
         "mode": "markers",
         "name": "stative_event",
         "orientation": "h",
         "showlegend": true,
         "type": "scatter",
         "x": [
          67,
          123,
          248
         ],
         "xaxis": "x",
         "y": [
          "stative_event",
          "stative_event",
          "stative_event"
         ],
         "yaxis": "y"
        },
        {
         "customdata": [
          [
           "Er hatte gerade einen  Brief an einen sich im Ausland befindenden Jugendfreund beendet",
           [
            "no"
           ],
           [
            "no"
           ],
           [
            "yes"
           ],
           [
            "yes"
           ]
          ],
          [
           "verschloß ihn in spielerischer Langsamkeit",
           [
            "no"
           ],
           [
            "no"
           ],
           [
            "no"
           ],
           [
            "yes"
           ]
          ],
          [
           "und sah dann, den  Ellbogen auf den Schreibtisch gestützt, aus dem Fenster auf den  Fluß, die Brücke und die Anhöhen am anderen Ufer mit ihrem  schwachen Grün",
           [
            "no"
           ],
           [
            "yes"
           ],
           [
            "no"
           ],
           [
            "yes"
           ]
          ]
         ],
         "hovertemplate": "tag=%{y}<br>start_point=%{x}<br>annotation=%{customdata[0]}<br>prop:unpredictable=%{customdata[1]}<br>prop:mental=%{customdata[2]}<br>prop:persistent=%{customdata[3]}<br>prop:intentional=%{customdata[4]}<extra></extra>",
         "legendgroup": "process",
         "marker": {
          "color": "#EF553B",
          "opacity": 0.7,
          "symbol": "circle"
         },
         "mode": "markers",
         "name": "process",
         "orientation": "h",
         "showlegend": true,
         "type": "scatter",
         "x": [
          358,
          445,
          488
         ],
         "xaxis": "x",
         "y": [
          "process",
          "process",
          "process"
         ],
         "yaxis": "y"
        }
       ],
       "layout": {
        "legend": {
         "title": {
          "text": "tag"
         },
         "tracegroupgap": 0
        },
        "margin": {
         "t": 60
        },
        "template": {
         "data": {
          "bar": [
           {
            "error_x": {
             "color": "#2a3f5f"
            },
            "error_y": {
             "color": "#2a3f5f"
            },
            "marker": {
             "line": {
              "color": "#E5ECF6",
              "width": 0.5
             }
            },
            "type": "bar"
           }
          ],
          "barpolar": [
           {
            "marker": {
             "line": {
              "color": "#E5ECF6",
              "width": 0.5
             }
            },
            "type": "barpolar"
           }
          ],
          "carpet": [
           {
            "aaxis": {
             "endlinecolor": "#2a3f5f",
             "gridcolor": "white",
             "linecolor": "white",
             "minorgridcolor": "white",
             "startlinecolor": "#2a3f5f"
            },
            "baxis": {
             "endlinecolor": "#2a3f5f",
             "gridcolor": "white",
             "linecolor": "white",
             "minorgridcolor": "white",
             "startlinecolor": "#2a3f5f"
            },
            "type": "carpet"
           }
          ],
          "choropleth": [
           {
            "colorbar": {
             "outlinewidth": 0,
             "ticks": ""
            },
            "type": "choropleth"
           }
          ],
          "contour": [
           {
            "colorbar": {
             "outlinewidth": 0,
             "ticks": ""
            },
            "colorscale": [
             [
              0,
              "#0d0887"
             ],
             [
              0.1111111111111111,
              "#46039f"
             ],
             [
              0.2222222222222222,
              "#7201a8"
             ],
             [
              0.3333333333333333,
              "#9c179e"
             ],
             [
              0.4444444444444444,
              "#bd3786"
             ],
             [
              0.5555555555555556,
              "#d8576b"
             ],
             [
              0.6666666666666666,
              "#ed7953"
             ],
             [
              0.7777777777777778,
              "#fb9f3a"
             ],
             [
              0.8888888888888888,
              "#fdca26"
             ],
             [
              1,
              "#f0f921"
             ]
            ],
            "type": "contour"
           }
          ],
          "contourcarpet": [
           {
            "colorbar": {
             "outlinewidth": 0,
             "ticks": ""
            },
            "type": "contourcarpet"
           }
          ],
          "heatmap": [
           {
            "colorbar": {
             "outlinewidth": 0,
             "ticks": ""
            },
            "colorscale": [
             [
              0,
              "#0d0887"
             ],
             [
              0.1111111111111111,
              "#46039f"
             ],
             [
              0.2222222222222222,
              "#7201a8"
             ],
             [
              0.3333333333333333,
              "#9c179e"
             ],
             [
              0.4444444444444444,
              "#bd3786"
             ],
             [
              0.5555555555555556,
              "#d8576b"
             ],
             [
              0.6666666666666666,
              "#ed7953"
             ],
             [
              0.7777777777777778,
              "#fb9f3a"
             ],
             [
              0.8888888888888888,
              "#fdca26"
             ],
             [
              1,
              "#f0f921"
             ]
            ],
            "type": "heatmap"
           }
          ],
          "heatmapgl": [
           {
            "colorbar": {
             "outlinewidth": 0,
             "ticks": ""
            },
            "colorscale": [
             [
              0,
              "#0d0887"
             ],
             [
              0.1111111111111111,
              "#46039f"
             ],
             [
              0.2222222222222222,
              "#7201a8"
             ],
             [
              0.3333333333333333,
              "#9c179e"
             ],
             [
              0.4444444444444444,
              "#bd3786"
             ],
             [
              0.5555555555555556,
              "#d8576b"
             ],
             [
              0.6666666666666666,
              "#ed7953"
             ],
             [
              0.7777777777777778,
              "#fb9f3a"
             ],
             [
              0.8888888888888888,
              "#fdca26"
             ],
             [
              1,
              "#f0f921"
             ]
            ],
            "type": "heatmapgl"
           }
          ],
          "histogram": [
           {
            "marker": {
             "colorbar": {
              "outlinewidth": 0,
              "ticks": ""
             }
            },
            "type": "histogram"
           }
          ],
          "histogram2d": [
           {
            "colorbar": {
             "outlinewidth": 0,
             "ticks": ""
            },
            "colorscale": [
             [
              0,
              "#0d0887"
             ],
             [
              0.1111111111111111,
              "#46039f"
             ],
             [
              0.2222222222222222,
              "#7201a8"
             ],
             [
              0.3333333333333333,
              "#9c179e"
             ],
             [
              0.4444444444444444,
              "#bd3786"
             ],
             [
              0.5555555555555556,
              "#d8576b"
             ],
             [
              0.6666666666666666,
              "#ed7953"
             ],
             [
              0.7777777777777778,
              "#fb9f3a"
             ],
             [
              0.8888888888888888,
              "#fdca26"
             ],
             [
              1,
              "#f0f921"
             ]
            ],
            "type": "histogram2d"
           }
          ],
          "histogram2dcontour": [
           {
            "colorbar": {
             "outlinewidth": 0,
             "ticks": ""
            },
            "colorscale": [
             [
              0,
              "#0d0887"
             ],
             [
              0.1111111111111111,
              "#46039f"
             ],
             [
              0.2222222222222222,
              "#7201a8"
             ],
             [
              0.3333333333333333,
              "#9c179e"
             ],
             [
              0.4444444444444444,
              "#bd3786"
             ],
             [
              0.5555555555555556,
              "#d8576b"
             ],
             [
              0.6666666666666666,
              "#ed7953"
             ],
             [
              0.7777777777777778,
              "#fb9f3a"
             ],
             [
              0.8888888888888888,
              "#fdca26"
             ],
             [
              1,
              "#f0f921"
             ]
            ],
            "type": "histogram2dcontour"
           }
          ],
          "mesh3d": [
           {
            "colorbar": {
             "outlinewidth": 0,
             "ticks": ""
            },
            "type": "mesh3d"
           }
          ],
          "parcoords": [
           {
            "line": {
             "colorbar": {
              "outlinewidth": 0,
              "ticks": ""
             }
            },
            "type": "parcoords"
           }
          ],
          "pie": [
           {
            "automargin": true,
            "type": "pie"
           }
          ],
          "scatter": [
           {
            "marker": {
             "colorbar": {
              "outlinewidth": 0,
              "ticks": ""
             }
            },
            "type": "scatter"
           }
          ],
          "scatter3d": [
           {
            "line": {
             "colorbar": {
              "outlinewidth": 0,
              "ticks": ""
             }
            },
            "marker": {
             "colorbar": {
              "outlinewidth": 0,
              "ticks": ""
             }
            },
            "type": "scatter3d"
           }
          ],
          "scattercarpet": [
           {
            "marker": {
             "colorbar": {
              "outlinewidth": 0,
              "ticks": ""
             }
            },
            "type": "scattercarpet"
           }
          ],
          "scattergeo": [
           {
            "marker": {
             "colorbar": {
              "outlinewidth": 0,
              "ticks": ""
             }
            },
            "type": "scattergeo"
           }
          ],
          "scattergl": [
           {
            "marker": {
             "colorbar": {
              "outlinewidth": 0,
              "ticks": ""
             }
            },
            "type": "scattergl"
           }
          ],
          "scattermapbox": [
           {
            "marker": {
             "colorbar": {
              "outlinewidth": 0,
              "ticks": ""
             }
            },
            "type": "scattermapbox"
           }
          ],
          "scatterpolar": [
           {
            "marker": {
             "colorbar": {
              "outlinewidth": 0,
              "ticks": ""
             }
            },
            "type": "scatterpolar"
           }
          ],
          "scatterpolargl": [
           {
            "marker": {
             "colorbar": {
              "outlinewidth": 0,
              "ticks": ""
             }
            },
            "type": "scatterpolargl"
           }
          ],
          "scatterternary": [
           {
            "marker": {
             "colorbar": {
              "outlinewidth": 0,
              "ticks": ""
             }
            },
            "type": "scatterternary"
           }
          ],
          "surface": [
           {
            "colorbar": {
             "outlinewidth": 0,
             "ticks": ""
            },
            "colorscale": [
             [
              0,
              "#0d0887"
             ],
             [
              0.1111111111111111,
              "#46039f"
             ],
             [
              0.2222222222222222,
              "#7201a8"
             ],
             [
              0.3333333333333333,
              "#9c179e"
             ],
             [
              0.4444444444444444,
              "#bd3786"
             ],
             [
              0.5555555555555556,
              "#d8576b"
             ],
             [
              0.6666666666666666,
              "#ed7953"
             ],
             [
              0.7777777777777778,
              "#fb9f3a"
             ],
             [
              0.8888888888888888,
              "#fdca26"
             ],
             [
              1,
              "#f0f921"
             ]
            ],
            "type": "surface"
           }
          ],
          "table": [
           {
            "cells": {
             "fill": {
              "color": "#EBF0F8"
             },
             "line": {
              "color": "white"
             }
            },
            "header": {
             "fill": {
              "color": "#C8D4E3"
             },
             "line": {
              "color": "white"
             }
            },
            "type": "table"
           }
          ]
         },
         "layout": {
          "annotationdefaults": {
           "arrowcolor": "#2a3f5f",
           "arrowhead": 0,
           "arrowwidth": 1
          },
          "autotypenumbers": "strict",
          "coloraxis": {
           "colorbar": {
            "outlinewidth": 0,
            "ticks": ""
           }
          },
          "colorscale": {
           "diverging": [
            [
             0,
             "#8e0152"
            ],
            [
             0.1,
             "#c51b7d"
            ],
            [
             0.2,
             "#de77ae"
            ],
            [
             0.3,
             "#f1b6da"
            ],
            [
             0.4,
             "#fde0ef"
            ],
            [
             0.5,
             "#f7f7f7"
            ],
            [
             0.6,
             "#e6f5d0"
            ],
            [
             0.7,
             "#b8e186"
            ],
            [
             0.8,
             "#7fbc41"
            ],
            [
             0.9,
             "#4d9221"
            ],
            [
             1,
             "#276419"
            ]
           ],
           "sequential": [
            [
             0,
             "#0d0887"
            ],
            [
             0.1111111111111111,
             "#46039f"
            ],
            [
             0.2222222222222222,
             "#7201a8"
            ],
            [
             0.3333333333333333,
             "#9c179e"
            ],
            [
             0.4444444444444444,
             "#bd3786"
            ],
            [
             0.5555555555555556,
             "#d8576b"
            ],
            [
             0.6666666666666666,
             "#ed7953"
            ],
            [
             0.7777777777777778,
             "#fb9f3a"
            ],
            [
             0.8888888888888888,
             "#fdca26"
            ],
            [
             1,
             "#f0f921"
            ]
           ],
           "sequentialminus": [
            [
             0,
             "#0d0887"
            ],
            [
             0.1111111111111111,
             "#46039f"
            ],
            [
             0.2222222222222222,
             "#7201a8"
            ],
            [
             0.3333333333333333,
             "#9c179e"
            ],
            [
             0.4444444444444444,
             "#bd3786"
            ],
            [
             0.5555555555555556,
             "#d8576b"
            ],
            [
             0.6666666666666666,
             "#ed7953"
            ],
            [
             0.7777777777777778,
             "#fb9f3a"
            ],
            [
             0.8888888888888888,
             "#fdca26"
            ],
            [
             1,
             "#f0f921"
            ]
           ]
          },
          "colorway": [
           "#636efa",
           "#EF553B",
           "#00cc96",
           "#ab63fa",
           "#FFA15A",
           "#19d3f3",
           "#FF6692",
           "#B6E880",
           "#FF97FF",
           "#FECB52"
          ],
          "font": {
           "color": "#2a3f5f"
          },
          "geo": {
           "bgcolor": "white",
           "lakecolor": "white",
           "landcolor": "#E5ECF6",
           "showlakes": true,
           "showland": true,
           "subunitcolor": "white"
          },
          "hoverlabel": {
           "align": "left"
          },
          "hovermode": "closest",
          "mapbox": {
           "style": "light"
          },
          "paper_bgcolor": "white",
          "plot_bgcolor": "#E5ECF6",
          "polar": {
           "angularaxis": {
            "gridcolor": "white",
            "linecolor": "white",
            "ticks": ""
           },
           "bgcolor": "#E5ECF6",
           "radialaxis": {
            "gridcolor": "white",
            "linecolor": "white",
            "ticks": ""
           }
          },
          "scene": {
           "xaxis": {
            "backgroundcolor": "#E5ECF6",
            "gridcolor": "white",
            "gridwidth": 2,
            "linecolor": "white",
            "showbackground": true,
            "ticks": "",
            "zerolinecolor": "white"
           },
           "yaxis": {
            "backgroundcolor": "#E5ECF6",
            "gridcolor": "white",
            "gridwidth": 2,
            "linecolor": "white",
            "showbackground": true,
            "ticks": "",
            "zerolinecolor": "white"
           },
           "zaxis": {
            "backgroundcolor": "#E5ECF6",
            "gridcolor": "white",
            "gridwidth": 2,
            "linecolor": "white",
            "showbackground": true,
            "ticks": "",
            "zerolinecolor": "white"
           }
          },
          "shapedefaults": {
           "line": {
            "color": "#2a3f5f"
           }
          },
          "ternary": {
           "aaxis": {
            "gridcolor": "white",
            "linecolor": "white",
            "ticks": ""
           },
           "baxis": {
            "gridcolor": "white",
            "linecolor": "white",
            "ticks": ""
           },
           "bgcolor": "#E5ECF6",
           "caxis": {
            "gridcolor": "white",
            "linecolor": "white",
            "ticks": ""
           }
          },
          "title": {
           "x": 0.05
          },
          "xaxis": {
           "automargin": true,
           "gridcolor": "white",
           "linecolor": "white",
           "ticks": "",
           "title": {
            "standoff": 15
           },
           "zerolinecolor": "white",
           "zerolinewidth": 2
          },
          "yaxis": {
           "automargin": true,
           "gridcolor": "white",
           "linecolor": "white",
           "ticks": "",
           "title": {
            "standoff": 15
           },
           "zerolinecolor": "white",
           "zerolinewidth": 2
          }
         }
        },
        "xaxis": {
         "anchor": "y",
         "domain": [
          0,
          1
         ],
         "title": {
          "text": "start_point"
         }
        },
        "yaxis": {
         "anchor": "x",
         "categoryarray": [
          "process",
          "stative_event"
         ],
         "categoryorder": "array",
         "domain": [
          0,
          1
         ],
         "title": {
          "text": "tag"
         }
        }
       }
      }
     },
     "metadata": {},
     "output_type": "display_data"
    }
   ],
   "source": [
    "# Plot your Annotation Collection as interactive Plotly Scatter Plot\n",
    "project.ac_dict[annotation_collection].plot_annotation_overview()"
   ]
  },
  {
   "cell_type": "markdown",
   "metadata": {},
   "source": [
    "## Load your CATMA Profile\n",
    "To load your projects you can use the Catma class.\n",
    "That may be useful if you want to load multiple CATMA projects or just list your Project Names."
   ]
  },
  {
   "cell_type": "code",
   "execution_count": null,
   "metadata": {},
   "outputs": [],
   "source": [
    "my_catma = Catma(gitlab_access_token='')    # accessible in the CATMA UI\n",
    "print(my_catma.project_name_list)"
   ]
  },
  {
   "cell_type": "markdown",
   "metadata": {},
   "source": [
    "## Load a local CATMA Project with the `Catma` class\n",
    "In most cases it is recomended to load (local) CATMA projects with the `CatmaProject` class as shown below.\n",
    "Here we use the initialized `Catma` class to load a local CATMA project.\n",
    "\n",
    "If you don't have a local CATMA project yet, use the demo project or load a CATMA project with the `CatmaProject` class like explained below."
   ]
  },
  {
   "cell_type": "code",
   "execution_count": null,
   "metadata": {},
   "outputs": [],
   "source": [
    "project_directory = ''\n",
    "\n",
    "# select a project's name that is located in direction\n",
    "project_name = my_catma.project_name_list[0]\n",
    "\n",
    "my_catma.load_local_project(\n",
    "    project_directory=project_directory,\n",
    "    project_name=project_name,\n",
    "    excluded_acs=None,\n",
    ")\n",
    "\n",
    "# access project and show annotation progress\n",
    "my_catma.project_dict[project_name].plot_annotation_progression()"
   ]
  },
  {
   "cell_type": "markdown",
   "metadata": {},
   "source": [
    "## Load your own CATMA Project from the CATMA GitLab\n",
    "\n",
    "First you need to get a CATMA Access Token in the CATMA UI or in the CATMA GitLab."
   ]
  },
  {
   "cell_type": "code",
   "execution_count": null,
   "metadata": {},
   "outputs": [],
   "source": [
    "your_catma_access_token = ''\n",
    "your_projects_name = ''\n",
    "\n",
    "project = CatmaProject(\n",
    "    load_from_gitlab=True,\n",
    "    gitlab_access_token=your_catma_access_token,\n",
    "    project_name=your_projects_name\n",
    ")"
   ]
  },
  {
   "cell_type": "markdown",
   "metadata": {},
   "source": [
    "## Create Gold Annotations\n",
    "1. Add a gold_annotation AnnotationCollection in the CATMA GUI and synchronize\n",
    "2. Update your local CATMA Project\n",
    "3. Create Gold Annotations\n",
    "4. Synchronize your Project in the CATMA GUI"
   ]
  },
  {
   "cell_type": "code",
   "execution_count": null,
   "metadata": {},
   "outputs": [],
   "source": [
    "# Step 2: Update the CATMA project\n",
    "project.update()"
   ]
  },
  {
   "cell_type": "code",
   "execution_count": null,
   "metadata": {},
   "outputs": [],
   "source": [
    "# Step 3: Create gold annotations (which can be uploaded and edited in the CATMA UI)\n",
    "project.create_gold_annotations(\n",
    "    ac_1_name='ac_1',               # change to your collection name if you don't use the demo project\n",
    "    ac_2_name='ac_2',               # change to your collection name if you don't use the demo project\n",
    "    gold_ac_name='gold_annotation',\n",
    "    excluded_tags=[],\n",
    "    min_overlap=0.95,\n",
    "    property_values='matching',     # choose keyword 'none' if none Property Values shall be included in gold annotations\n",
    "    push_to_gitlab=False            # The push to gitlab will not work with the demo project\n",
    ")"
   ]
  }
 ],
 "metadata": {
  "interpreter": {
   "hash": "87fea37bc2fc5e48df9c556e0c5d422e790f997aa4713ca3dbac94eb0b0e073b"
  },
  "kernelspec": {
   "display_name": "Python 3.8.10 64-bit (windows store)",
   "name": "python3"
  },
  "language_info": {
   "codemirror_mode": {
    "name": "ipython",
    "version": 3
   },
   "file_extension": ".py",
   "mimetype": "text/x-python",
   "name": "python",
   "nbconvert_exporter": "python",
   "pygments_lexer": "ipython3",
   "version": "3.8.10"
  },
  "orig_nbformat": 4
 },
 "nbformat": 4,
 "nbformat_minor": 2
}
